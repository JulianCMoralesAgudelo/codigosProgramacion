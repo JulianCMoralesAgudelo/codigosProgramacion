{
 "cells": [
  {
   "cell_type": "code",
   "execution_count": 1,
   "metadata": {},
   "outputs": [
    {
     "name": "stdout",
     "output_type": "stream",
     "text": [
      "Imprimo esto porque la evaluacion fue verdadera\n"
     ]
    }
   ],
   "source": [
    "if True:\n",
    "    print('Imprimo esto porque la evaluacion fue verdadera')"
   ]
  },
  {
   "cell_type": "code",
   "execution_count": 2,
   "metadata": {},
   "outputs": [
    {
     "ename": "IndentationError",
     "evalue": "expected an indented block (<ipython-input-2-a4a92588f43d>, line 2)",
     "output_type": "error",
     "traceback": [
      "\u001b[1;36m  File \u001b[1;32m\"<ipython-input-2-a4a92588f43d>\"\u001b[1;36m, line \u001b[1;32m2\u001b[0m\n\u001b[1;33m    print('Imprimo esto porque la evaluacion fue verdadera')\u001b[0m\n\u001b[1;37m        ^\u001b[0m\n\u001b[1;31mIndentationError\u001b[0m\u001b[1;31m:\u001b[0m expected an indented block\n"
     ]
    }
   ],
   "source": [
    "if True:\n",
    "print('Imprimo esto porque la evaluacion fue verdadera')"
   ]
  },
  {
   "cell_type": "code",
   "execution_count": 3,
   "metadata": {},
   "outputs": [],
   "source": [
    "if False:\n",
    "    print('Imprimo esto porque la evaluacion fue verdadera')"
   ]
  },
  {
   "cell_type": "code",
   "execution_count": 6,
   "metadata": {},
   "outputs": [
    {
     "name": "stdout",
     "output_type": "stream",
     "text": [
      "Alvaro Vale 67\n",
      "Alvaro Vale 10\n"
     ]
    }
   ],
   "source": [
    "Alvaro = 10\n",
    "if Alvaro == 10:\n",
    "    print('Alvaro Vale 67')\n",
    "if Alvaro == 10:\n",
    "    print('Alvaro Vale 10')"
   ]
  },
  {
   "cell_type": "code",
   "execution_count": 7,
   "metadata": {},
   "outputs": [
    {
     "name": "stdout",
     "output_type": "stream",
     "text": [
      "Alvaro Vale 67\n",
      "Alvaro Vale 10\n"
     ]
    }
   ],
   "source": [
    "if Alvaro == 10:\n",
    "    print('Alvaro Vale 67')\n",
    "    if Alvaro == 10:\n",
    "        print('Alvaro Vale 10')"
   ]
  },
  {
   "cell_type": "code",
   "execution_count": 8,
   "metadata": {},
   "outputs": [],
   "source": [
    "if Alvaro == 11:\n",
    "    print('Alvaro Vale 67')\n",
    "    if Alvaro == 10:\n",
    "        print('Alvaro Vale 10')"
   ]
  },
  {
   "cell_type": "code",
   "execution_count": 10,
   "metadata": {},
   "outputs": [],
   "source": [
    "if Alvaro == 11 and Alvaro == 10:\n",
    "    print ('entro')"
   ]
  },
  {
   "cell_type": "code",
   "execution_count": 11,
   "metadata": {},
   "outputs": [
    {
     "name": "stdout",
     "output_type": "stream",
     "text": [
      "entro\n"
     ]
    }
   ],
   "source": [
    "if Alvaro == 11 or Alvaro == 10:\n",
    "    print ('entro')"
   ]
  },
  {
   "cell_type": "code",
   "execution_count": null,
   "metadata": {},
   "outputs": [],
   "source": []
  }
 ],
 "metadata": {
  "kernelspec": {
   "display_name": "Python 3",
   "language": "python",
   "name": "python3"
  },
  "language_info": {
   "codemirror_mode": {
    "name": "ipython",
    "version": 3
   },
   "file_extension": ".py",
   "mimetype": "text/x-python",
   "name": "python",
   "nbconvert_exporter": "python",
   "pygments_lexer": "ipython3",
   "version": "3.8.3"
  }
 },
 "nbformat": 4,
 "nbformat_minor": 2
}
