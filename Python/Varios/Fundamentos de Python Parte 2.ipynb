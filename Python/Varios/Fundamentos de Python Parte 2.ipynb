{
 "cells": [
  {
   "cell_type": "markdown",
   "metadata": {
    "colab_type": "text",
    "id": "raRnA7oiupLV"
   },
   "source": [
    "# Operadores Booleanos\n",
    "\n",
    "Un booleano es $1$ o $0$, verdadero o falso.  Con operadores como **and**, **or** o **not**, se pueden realizar consultas nuevas combinando estos operadores."
   ]
  },
  {
   "cell_type": "code",
   "execution_count": null,
   "metadata": {
    "colab": {},
    "colab_type": "code",
    "id": "ayMjSm2h2qDH"
   },
   "outputs": [],
   "source": [
    "# Define Variables\n",
    "my_house = 120.0 # mts^2\n",
    "your_apartment = 72.0 # mts^2\n",
    "\n",
    "# my_house is bigger than 100 and smaller than 120?\n",
    "print(my_house>100 and my_house<120)"
   ]
  },
  {
   "cell_type": "code",
   "execution_count": null,
   "metadata": {
    "colab": {},
    "colab_type": "code",
    "id": "vaRKPto7XDD6"
   },
   "outputs": [],
   "source": [
    "# my_house smaller than 72 or bigger than 110?\n",
    "print(my_house<72 or my_house>110)"
   ]
  },
  {
   "cell_type": "code",
   "execution_count": null,
   "metadata": {
    "colab": {},
    "colab_type": "code",
    "id": "J7bxXvqmXF3i"
   },
   "outputs": [],
   "source": [
    "# Double my_house smaller than triple your_apartment?\n",
    "print(2*my_house < 3*your_apartment)"
   ]
  },
  {
   "cell_type": "code",
   "execution_count": null,
   "metadata": {
    "colab": {},
    "colab_type": "code",
    "id": "n2xBttjBXF6N"
   },
   "outputs": [],
   "source": [
    "# Using not\n",
    "print(not my_house > 100)"
   ]
  },
  {
   "cell_type": "markdown",
   "metadata": {
    "colab_type": "text",
    "id": "2WJcmvsq4-6K"
   },
   "source": [
    "## Ejercicio 1\n",
    "\n",
    "Para el siguiente codigo de python:\n",
    "\n",
    "```python \n",
    "x = 9\n",
    "y = 10\n",
    "not(not(x < 4) and not(y > 15 or y > 10))\n",
    "````\n",
    "\n",
    "Cuál sería el resultado si ejecutamos este código?\n",
    "\n",
    "a. True\n",
    "\n",
    "b. False\n",
    "\n",
    "c. Correr este comando genera un error"
   ]
  },
  {
   "cell_type": "markdown",
   "metadata": {
    "colab_type": "text",
    "id": "Ath2U-5gChXX"
   },
   "source": [
    "# Estructuras de Control"
   ]
  },
  {
   "cell_type": "markdown",
   "metadata": {
    "colab_type": "text",
    "id": "HiYG9LosZZJ4"
   },
   "source": [
    "## IF\n",
    "\n",
    "Condición es de tipo booleano, y cuando ésta se cumple se ejecuta el bloque.\n",
    "\n",
    "```python\n",
    "if condicion1:\n",
    "  bloque1\n",
    "elif condicion2:\n",
    "  bloque2\n",
    "else:\n",
    "  bloque3\n",
    "```"
   ]
  },
  {
   "cell_type": "markdown",
   "metadata": {
    "colab_type": "text",
    "id": "ChxNNAw8Ca5f"
   },
   "source": [
    "### Ejercicio 2\n",
    "\n",
    "Teniendo este código en Python:\n",
    "\n",
    "```python\n",
    "area = 10.0\n",
    "if(area < 9) :\n",
    "    print(\"small\")\n",
    "elif(area < 12) :\n",
    "    print(\"medium\")\n",
    "else :\n",
    "    print(\"large\")\n",
    "````\n",
    "\n",
    "Cuál sera la salida si se ejecuta?\n",
    "\n",
    "a. small\n",
    "\n",
    "b. medium\n",
    "\n",
    "c. large\n",
    "\n",
    "d. Error de sintaxis\n"
   ]
  },
  {
   "cell_type": "code",
   "execution_count": null,
   "metadata": {
    "colab": {},
    "colab_type": "code",
    "id": "4Renzlf5rrYP"
   },
   "outputs": [],
   "source": [
    "# Define variables\n",
    "room = \"bed\"\n",
    "size = 180.0\n",
    "\n",
    "# f-elif-else construct for room\n",
    "if room == \"bed\" :\n",
    "    print(\"looking around in the bedroom.\")\n",
    "elif room == \"kit\" :\n",
    "    print(\"looking around in the kitchen.\")\n",
    "else :\n",
    "    print(\"looking around elsewhere.\")\n",
    "\n",
    "# if statement for area\n",
    "if size > 180 :\n",
    "  print(\"big place!\")\n",
    "elif size > 100 :\n",
    "    print(\"medium size, nice!\")\n",
    "else: \n",
    "    print(\"pretty small.\")"
   ]
  },
  {
   "cell_type": "markdown",
   "metadata": {
    "colab_type": "text",
    "id": "mT4OXWlDM_cC"
   },
   "source": [
    "### Ejercicio 3\n",
    "\n",
    "Dado un número entero $n$, realice las siguientes acciones condicionales:\n",
    "\n",
    "1. Si es impar imprima 'Extraño'\n",
    "2. Si es par y esta en el rango inclusive de 2 a 5, imprima 'No Extraño'\n",
    "3. Si es par y esta en el rango inclusive de 6 a 20, imprima 'Extraño' \n",
    "4. Si es par y es más grande que 20, imprima 'No Extraño'\n",
    "\n",
    "***Ejemplos:***\n",
    "$$n = 3$$\n",
    "$n$ es impar y los números impares son de tipo 'Extraño', así que debe de imprimir 'Extraño'.\n",
    "$$n = 24$$\n",
    "$n$ es par y es mayor que 20, los números pares mayores que 20 son de tipo ' No Extraño', así que debe de imprimir 'No Extraño'.\n"
   ]
  },
  {
   "cell_type": "code",
   "execution_count": null,
   "metadata": {
    "colab": {},
    "colab_type": "code",
    "id": "Ut_f2X0cPh9F"
   },
   "outputs": [],
   "source": [
    "# Your code"
   ]
  },
  {
   "cell_type": "markdown",
   "metadata": {
    "colab_type": "text",
    "id": "u9wCsKUL7lnC"
   },
   "source": [
    "## WHILE\n",
    "\n",
    "El ciclo while se ejecuta mientras la condición sea cierta, si la condición es falsa al inicio, el bloque no se ejecuta y se pasan a ejecutar las sentencias que le siguen. En Python, cualquier valor entero distinto de cero es verdadero y 0 es falso. La condición también puede ser una lista o cualquier secuencia, siendo la secuencia vacía falsa. El cuerpo del bucle debe estar identado, ya que de este modo Python agrupa las sentencias.\n",
    "\n",
    "```python\n",
    "while condicion:\n",
    "  bloque\n",
    "```"
   ]
  },
  {
   "cell_type": "markdown",
   "metadata": {
    "colab_type": "text",
    "id": "nHpYr3xiCrPP"
   },
   "source": [
    "### Ejercicio 4\n",
    "\n",
    "Cuántos impresiones hará este ciclo de while?\n",
    "\n",
    "```python\n",
    "x = 1\n",
    "while x < 4 :\n",
    "    print(x)\n",
    "    x = x + 1\n",
    "```\n",
    "\n",
    "a. 0\n",
    "\n",
    "b. 1\n",
    "\n",
    "c. 2\n",
    "\n",
    "d. 3"
   ]
  },
  {
   "cell_type": "code",
   "execution_count": null,
   "metadata": {
    "colab": {},
    "colab_type": "code",
    "id": "tkczA9XZWXdc"
   },
   "outputs": [],
   "source": [
    "while True:\n",
    "  print(\"Ciclo Infinito\")"
   ]
  },
  {
   "cell_type": "code",
   "execution_count": null,
   "metadata": {
    "colab": {},
    "colab_type": "code",
    "id": "UAGONT6fEDnT"
   },
   "outputs": [],
   "source": [
    "# Initialize offset\n",
    "offset = 8\n",
    "\n",
    "# Code the while loop\n",
    "while offset != 0:\n",
    "    print(\"correcting...\")\n",
    "    offset = offset - 1 # You can use too: offset -= 1  \n",
    "    print(offset)"
   ]
  },
  {
   "cell_type": "code",
   "execution_count": null,
   "metadata": {
    "colab": {},
    "colab_type": "code",
    "id": "WjVii7mOBtBE"
   },
   "outputs": [],
   "source": [
    "# Iterate Lists\n",
    "lista = ['a','e','i','o','u']\n",
    "while lista:\n",
    "  print(lista.pop(0))"
   ]
  },
  {
   "cell_type": "code",
   "execution_count": null,
   "metadata": {
    "colab": {},
    "colab_type": "code",
    "id": "7A_z2TBiiCdh"
   },
   "outputs": [],
   "source": [
    "z = 3\n",
    "\n",
    "while z !=  1  :  # any boolean condition could be placed here. Also, notice the : at the end!\n",
    "    print( f\"z = {z}\" )\n",
    "    if z % 2 == 0 : # if z is even, divide by 2\n",
    "        z = z // 2 \n",
    "    else : \n",
    "        z = 3 * z + 1 # if z is odd, multiply by 3 add 1"
   ]
  },
  {
   "cell_type": "markdown",
   "metadata": {
    "colab_type": "text",
    "id": "YF_Wp9tT7jmp"
   },
   "source": [
    "## FOR\n",
    "\n",
    "Ejecuta un bloque $n$ cantidad de veces, inicia desde $0$ hasta $n-1$. Python permite iterar no solo sobre progresiones aritméticas, sino que recorre los elementos de una secuencia, ya sea lista o cadena, en el orden en que estos aparecen en la misma.\n",
    "\n",
    "```python\n",
    "for idx in range(0,n):\n",
    "  bloque\n",
    "\n",
    "for elem in lista:\n",
    "  bloque\n",
    "```\n",
    "\n",
    "El uso del ciclo para iterar la lista solo da acceso a todos los elementos de la lista, si también se desea acceder a la información del índice se puede usar el método `enumerate()`\n",
    "\n",
    "```python\n",
    "for indice,elemento in enumerate(lista):\n",
    "  print(\"Indice\" + str(indice) + \":\" + str(elemento)\n",
    "````"
   ]
  },
  {
   "cell_type": "markdown",
   "metadata": {
    "colab_type": "text",
    "id": "j3gPFScbQzyI"
   },
   "source": [
    "### FOR sobre Listas"
   ]
  },
  {
   "cell_type": "code",
   "execution_count": null,
   "metadata": {
    "colab": {},
    "colab_type": "code",
    "id": "6vMm9zK7L2cN"
   },
   "outputs": [],
   "source": [
    "# areas list\n",
    "areas = [11.25, 18.0, 20.0, 10.75, 9.50]\n",
    "\n",
    "# for loop using enumerate()\n",
    "for idx,a in enumerate(areas) :\n",
    "    print(\"room\" + str(idx) + \":\" + str(a))"
   ]
  },
  {
   "cell_type": "code",
   "execution_count": null,
   "metadata": {
    "colab": {},
    "colab_type": "code",
    "id": "WfXGkaHrPy34"
   },
   "outputs": [],
   "source": [
    "# house list of lists\n",
    "house = [[\"hallway\", 11.25], \n",
    "         [\"kitchen\", 18.0], \n",
    "         [\"living room\", 20.0], \n",
    "         [\"bedroom\", 10.75], \n",
    "         [\"bathroom\", 9.50]]\n",
    "# For structure\n",
    "for elem in house:\n",
    "    print(\"the \"+str(elem[0]) + \" is \"+ str(elem[1]) + \"sqm\")"
   ]
  },
  {
   "cell_type": "markdown",
   "metadata": {
    "colab_type": "text",
    "id": "DrALR41gQ7hH"
   },
   "source": [
    "### FOR sobre Diccionarios"
   ]
  },
  {
   "cell_type": "code",
   "execution_count": null,
   "metadata": {
    "colab": {},
    "colab_type": "code",
    "id": "e_D7OgndQ_Jr"
   },
   "outputs": [],
   "source": [
    "# Definition of dictionary\n",
    "europe = {'spain':'madrid', 'france':'paris', 'germany':'berlin',\n",
    "          'norway':'oslo', 'italy':'rome', 'poland':'warsaw', 'austria':'vienna' }\n",
    "          \n",
    "# Iterate over europe\n",
    "for key in europe:\n",
    "  print(\"the capital of \"+key+ \" is \"+europe[key]) "
   ]
  },
  {
   "cell_type": "code",
   "execution_count": null,
   "metadata": {
    "colab": {},
    "colab_type": "code",
    "id": "TvVYhoEsWnEc"
   },
   "outputs": [],
   "source": [
    "# Iterate over europe.items()\n",
    "for key, value in europe.items() :\n",
    "  print(\"the capital of \"+key+ \" is \"+value)"
   ]
  },
  {
   "cell_type": "code",
   "execution_count": null,
   "metadata": {
    "colab": {},
    "colab_type": "code",
    "id": "91hP-_W0WnMZ"
   },
   "outputs": [],
   "source": [
    "# Iterate over europe.keys()\n",
    "for key in europe.keys() :\n",
    "  print(\"the capital of \"+key+ \" is \"+europe[key])"
   ]
  },
  {
   "cell_type": "code",
   "execution_count": null,
   "metadata": {
    "colab": {},
    "colab_type": "code",
    "id": "tyI_hcEqWnW_"
   },
   "outputs": [],
   "source": [
    "# Iterate over europe.values()\n",
    "for value in europe.values() :\n",
    "  print(\"the capitals is \"+value) "
   ]
  },
  {
   "cell_type": "markdown",
   "metadata": {
    "colab_type": "text",
    "id": "xE02aKq5b8y-"
   },
   "source": [
    "### Ejercicio 5\n",
    "\n",
    "Escriba una función que genere un diccionario donde las claves son los numeros del 1 al 15 (ambos incluidos) y los valores son el cuadrado de las claves.\n",
    "\n",
    "Ejemplo:\n",
    "```python\n",
    "{\n",
    "  1 : 1,\n",
    "  2 : 4,\n",
    "  3 : 9,\n",
    "  ...\n",
    "}\n",
    "```"
   ]
  },
  {
   "cell_type": "code",
   "execution_count": null,
   "metadata": {
    "colab": {},
    "colab_type": "code",
    "id": "CzHOkVQGco_h"
   },
   "outputs": [],
   "source": [
    "# Your code"
   ]
  },
  {
   "cell_type": "markdown",
   "metadata": {
    "colab_type": "text",
    "id": "12QDJu3enKog"
   },
   "source": [
    "## Control de ciclos"
   ]
  },
  {
   "cell_type": "markdown",
   "metadata": {
    "colab_type": "text",
    "id": "c4t54cBbVZ8a"
   },
   "source": [
    "### Break\n",
    "\n",
    "Esta función se puede usar en ciclos FOR y WHILE y simplemente termina el ciclo actual y continua con la ejecución de la siguiente instrucción."
   ]
  },
  {
   "cell_type": "code",
   "execution_count": null,
   "metadata": {
    "colab": {},
    "colab_type": "code",
    "id": "2PRJOnYfVoCQ"
   },
   "outputs": [],
   "source": [
    "# Break in FOR\n",
    "for char in \"Python\":\n",
    "    if char == \"h\":\n",
    "        break\n",
    "    print (\"char : \" + char)"
   ]
  },
  {
   "cell_type": "code",
   "execution_count": null,
   "metadata": {
    "colab": {},
    "colab_type": "code",
    "id": "FnivC54iXUgl"
   },
   "outputs": [],
   "source": [
    "# Break in FOR\n",
    "for i in range(1, 12) : \n",
    "    print( f\"i = {i}\" )\n",
    "    if i == 7 :  \n",
    "        print( \"Found 7, everybody's favorite number! No need to keep working!\")\n",
    "        break"
   ]
  },
  {
   "cell_type": "code",
   "execution_count": null,
   "metadata": {
    "colab": {},
    "colab_type": "code",
    "id": "gVzuCMC8XU84"
   },
   "outputs": [],
   "source": [
    "# Break in WHILE\n",
    "value = 10\n",
    "while value > 0:\n",
    "    value = value -1\n",
    "    if value == 5:\n",
    "        break\n",
    "    print (\"value : \" + str(value))\n",
    "\n",
    "print (\"End Script\")"
   ]
  },
  {
   "cell_type": "markdown",
   "metadata": {
    "colab_type": "text",
    "id": "ycArVMfTXgh6"
   },
   "source": [
    "### Continue\n",
    "\n",
    "Esta función regresa al comienzo del ciclo, ignorando las siguientes lineas de código del ciclo actual e inicia la siguiente iteración.  Se puede usar en ciclos FOR y WHILE."
   ]
  },
  {
   "cell_type": "code",
   "execution_count": null,
   "metadata": {
    "colab": {},
    "colab_type": "code",
    "id": "RvLdr5TqXf3T"
   },
   "outputs": [],
   "source": [
    "# Continue in FOR\n",
    "for char in \"Python\":\n",
    "    if char == \"h\":\n",
    "        continue\n",
    "    print (\"char : \" + char)"
   ]
  },
  {
   "cell_type": "code",
   "execution_count": null,
   "metadata": {
    "colab": {},
    "colab_type": "code",
    "id": "fJUTbwQUXVAu"
   },
   "outputs": [],
   "source": [
    "# Continue in FOR\n",
    "for i in range(1, 12):      \n",
    "    if i % 5 == 0 : # if i is a multiple of 5 \n",
    "        print( \"I don't like multiples of 5, skipping this one\")\n",
    "        continue  # this jumps directly to the beginning of the loop, skipping the rest of _this_ iteration!  \n",
    "        \n",
    "    print( f\"i = {i}\")"
   ]
  },
  {
   "cell_type": "code",
   "execution_count": null,
   "metadata": {
    "colab": {},
    "colab_type": "code",
    "id": "5W4Mgaf8nQ10"
   },
   "outputs": [],
   "source": [
    "# Continue in WHILE\n",
    "value = 10\n",
    "while value > 0:\n",
    "    value = value -1\n",
    "    if value == 5:\n",
    "        continue\n",
    "    print (\"value : \" + str(value))\n",
    "\n",
    "print (\"End Script\")"
   ]
  },
  {
   "cell_type": "markdown",
   "metadata": {
    "colab_type": "text",
    "id": "0oaZnvTbgV_g"
   },
   "source": [
    "### Pass\n",
    "\n",
    "Es una operación no sucede nada cuando se ejecuta.  Se utiliza cuando se requiere por sintaxis una declaración pero no se quiere ejecutar ningún código.  También se usa como un código temporal, hasta que se escriba el código final."
   ]
  },
  {
   "cell_type": "code",
   "execution_count": null,
   "metadata": {
    "colab": {},
    "colab_type": "code",
    "id": "Fnr629lInSoc"
   },
   "outputs": [],
   "source": [
    "# Pass in FOR\n",
    "for char in \"Python\":\n",
    "    if char == \"h\":\n",
    "        pass\n",
    "    print (\"char : \" + char)"
   ]
  },
  {
   "cell_type": "code",
   "execution_count": null,
   "metadata": {
    "colab": {},
    "colab_type": "code",
    "id": "rGauJmLFg4t-"
   },
   "outputs": [],
   "source": [
    "# Pass in WHILE\n",
    "value = 10\n",
    "while value > 0:\n",
    "    value = value -1\n",
    "    if value == 5:\n",
    "        pass\n",
    "    print (\"value : \" + str(value))\n",
    "\n",
    "print (\"End Script\")"
   ]
  },
  {
   "cell_type": "markdown",
   "metadata": {
    "colab_type": "text",
    "id": "FJB3Y6Y8nXfV"
   },
   "source": [
    "# Errores y Excepciones\n",
    "\n",
    "Hay dos tipos de errores diferentes: *errores de sintaxis* y *excepciones*."
   ]
  },
  {
   "cell_type": "markdown",
   "metadata": {
    "colab_type": "text",
    "id": "eDcBwZ8niL3v"
   },
   "source": [
    "## Errores de sintaxis\n",
    "\n",
    "En los errores de sintaxis, el interprete repite la línea culpable del error.\n",
    "\n",
    "```python\n",
    "while True print('Hola mundo')\n",
    "```\n",
    "```python\n",
    "File \"<stdin>\", line 1\n",
    "  while True print('Hola mundo')\n",
    "                  ^\n",
    "SyntaxError: invalid syntax\n",
    "```"
   ]
  },
  {
   "cell_type": "markdown",
   "metadata": {
    "colab_type": "text",
    "id": "603Zf-rLkGT4"
   },
   "source": [
    "## Excepciones\n",
    "\n",
    "Sin importar que la declaración este sintácticamente correcta, puede generar un error cuando se intenta ejecutarla. Los errores detectados durante la ejecución se llaman excepciones pueden ser manejados por los programas en Python. \n",
    "\n",
    "La declaración `try` nos permite manejar las excepciones y trabaja de la siguiente manera:\n",
    "\n",
    "1. Se ejecuta el *bloque try* (el código entre la declaración `try`y `except`)\n",
    "2. Si no ocurre una excepción el `boque except` se omite y termina la ejecución de la declaración `try`.\n",
    "3. Si ocurre una excepción durante la ejecución del *bloque try*, el resto del bloque se omite.  Si el tipo de excepción coincide con la excepción nombreada luevo de la palabra reservada `except`, se ejecuta el *bloque except*, y la ejecución continúa luego de la declaración `try`.\n",
    "4. Si ocurre una excepción que no coincida con la excepción nombrada en el `except`, esta es una excepción no manejada y la ejecución se frena con un mensaje de error indicando lo que sucedió, por ejemplo: **ZeroDivisionError**, **NameError**, **TypeError** y **ValueError**."
   ]
  },
  {
   "cell_type": "code",
   "execution_count": null,
   "metadata": {
    "colab": {},
    "colab_type": "code",
    "id": "JJ2i5QUriLS3"
   },
   "outputs": [],
   "source": [
    "# ZeroDivisionError\n",
    "10 * (1/0)"
   ]
  },
  {
   "cell_type": "code",
   "execution_count": null,
   "metadata": {
    "colab": {},
    "colab_type": "code",
    "id": "KQPEvVfepUyF"
   },
   "outputs": [],
   "source": [
    "# NameError\n",
    "4 + spam*3"
   ]
  },
  {
   "cell_type": "code",
   "execution_count": null,
   "metadata": {
    "colab": {},
    "colab_type": "code",
    "id": "8_jfDp-GpZdw"
   },
   "outputs": [],
   "source": [
    "# TypeError\n",
    "'2' + 2"
   ]
  },
  {
   "cell_type": "code",
   "execution_count": null,
   "metadata": {
    "colab": {},
    "colab_type": "code",
    "id": "-xO-r4s6ncvC"
   },
   "outputs": [],
   "source": [
    "#ValueError\n",
    "float(\"juan\")"
   ]
  },
  {
   "cell_type": "code",
   "execution_count": null,
   "metadata": {
    "colab": {},
    "colab_type": "code",
    "id": "rJnu_9LonY6L"
   },
   "outputs": [],
   "source": [
    "# try-except structure with particular type of exception defined\n",
    "my_string = \"asd\"\n",
    "try : \n",
    "    my_string_as_float = 2 / 0 #float( my_string ) \n",
    "    print( \"the entered value could be converted directly to a number\")\n",
    "except ValueError as err :  \n",
    "    # capture this particular type of exception and bind it to the name 'err'\n",
    "    print( \"an exception was thrown: defaulting to special float value = nan\")\n",
    "    a_as_float = float( \"nan\")\n",
    "    print(err)\n",
    "#print( f\"a_as_float = {a_as_float}\")"
   ]
  },
  {
   "cell_type": "code",
   "execution_count": null,
   "metadata": {
    "colab": {},
    "colab_type": "code",
    "id": "s6c254MRp8Aa"
   },
   "outputs": [],
   "source": [
    "# try-except structure with general type of exception\n",
    "my_string = 12\n",
    "try : \n",
    "    my_string_as_float = float( my_string ) \n",
    "    print( \"the entered value could be converted directly to a number\")\n",
    "except:  \n",
    "    # capture this particular type of exception and bind it to the name 'err'\n",
    "    print( \"an exception was thrown: defaulting to special float value = nan\")\n",
    "    a_as_float = float( \"nan\")\n",
    "    print( f\"a_as_float = {a_as_float}\")"
   ]
  },
  {
   "cell_type": "code",
   "execution_count": null,
   "metadata": {
    "colab": {},
    "colab_type": "code",
    "id": "CMfgOS7kq7I_"
   },
   "outputs": [],
   "source": [
    "# try-except structure with general type of exception and print error\n",
    "my_string = \"asdad\"\n",
    "try : \n",
    "    my_string_as_float = float( my_string ) \n",
    "    print( \"the entered value could be converted directly to a number\")\n",
    "except Exception as inst:  \n",
    "    # capture this particular type of exception and bind it to the name 'err'\n",
    "    print( f\"an exception was thrown: {inst}\")\n",
    "    a_as_float = float( \"nan\")\n",
    "print( f\"a_as_float = {a_as_float}\")"
   ]
  },
  {
   "cell_type": "code",
   "execution_count": null,
   "metadata": {
    "colab": {},
    "colab_type": "code",
    "id": "1EN353bOqZ4k"
   },
   "outputs": [],
   "source": [
    "# try-except structure with general type of exception\n",
    "my_string = \"asdad\"\n",
    "try : \n",
    "    my_string_as_float = float( my_string ) \n",
    "    print( \"the entered value could be converted directly to a number\")\n",
    "except:\n",
    "    # capture this particular type of exception and bind it to the name 'err'\n",
    "    print( \"an exception was thrown: defaulting to special float value = nan\")\n",
    "    a_as_float = float( \"nan\")\n",
    "print( f\"a_as_float = {a_as_float}\")"
   ]
  },
  {
   "cell_type": "markdown",
   "metadata": {
    "colab_type": "text",
    "id": "EKnsKemowY9X"
   },
   "source": [
    "La declaración `try` tiene otra clausula opcional `finally` que intenta definir acciones de limpieza que deben ser ejecutadas bajo ciertas circustancias. La cláusula `finally` siempre es ejecutada antes de salir de la declaración `try`, ya sea que una excepción haya ocurrido o no."
   ]
  },
  {
   "cell_type": "code",
   "execution_count": null,
   "metadata": {
    "colab": {},
    "colab_type": "code",
    "id": "S9NyzEOwtOV-"
   },
   "outputs": [],
   "source": [
    "# structure try-except-finally\n",
    "try:\n",
    "  #result = x / 0\n",
    "  result = 4/2\n",
    "except ZeroDivisionError:\n",
    "  print(\"¡división por cero!\")\n",
    "else:\n",
    "  print(\"el resultado es\", result)\n",
    "finally:\n",
    "  print(\"ejecutando la clausula finally\")"
   ]
  },
  {
   "cell_type": "markdown",
   "metadata": {
    "colab_type": "text",
    "id": "Za6SV4IV3jrR"
   },
   "source": [
    "# Clases\n",
    "\n",
    "Las clases proveen una forma de empaquetar datos y funcionalidad juntos. Al crear una nueva clase, se crea un nuevo *tipo* de objeto, permitiendo crear nuevas *instancias* de este tipo.  Cada instancia de clase puede tener atributos adjuntos para mantener su estado.  Las instancias de clase también pueden tener métodos (definidos por su clase) para modificar su estado.\n",
    "\n",
    "La variable *self* es una instancia de la clase y no es ua palabra reservada de Python, cualquier etiqueta utilizada como primer parámetro tendría el mismo valor (no se aconseja usar otro valor por convención).  Cada vez que declaremos un método en Python, vamos a tener uqe agregarle la variable *self* para que cuando sea invocado el método, Python pase el objeto instanciado y opere con los valores actuales de esa instancia.  \n",
    "  \n",
    "  \n"
   ]
  },
  {
   "cell_type": "code",
   "execution_count": null,
   "metadata": {
    "colab": {},
    "colab_type": "code",
    "id": "JbJ31lPrCGwg"
   },
   "outputs": [],
   "source": [
    "# Definimos la clase con nombre Mascota\n",
    "class Mascota:\n",
    "  # Atributos\n",
    "  especie = 'Gato'\n",
    "  _oculto = 2\n",
    "\n",
    "  \n",
    "  def __init__(self,nombre,especie=especie):\n",
    "    \"\"\"\n",
    "      El método __init__ es una función para inicializar la clase, si no se especifica la especie toma el valor por defecto definido en el atributo.\n",
    "    \"\"\"\n",
    "    self.nombre = nombre\n",
    "    self.especie = especie\n",
    "    self._private=None\n",
    "  \n",
    "  def __str__(self):\n",
    "    \"\"\"\n",
    "      El método __str__ es una función que proporciona una cadena informal de la representación del objeto.\n",
    "    \"\"\"\n",
    "    return \"%s es un %s\" % (self.nombre, self.especie)\n",
    "\n",
    "  def darNombre(self):\n",
    "    \"\"\"\n",
    "      Retorna el nombre de la mascota.\n",
    "    \"\"\"\n",
    "    return self.nombre\n",
    "  \n",
    "  def darEspecie(self):\n",
    "    \"\"\"\n",
    "      Retorna la especie de la mascota.\n",
    "    \"\"\"\n",
    "    return self.especie"
   ]
  },
  {
   "cell_type": "code",
   "execution_count": null,
   "metadata": {
    "colab": {},
    "colab_type": "code",
    "id": "nQfkVQdnCM9v"
   },
   "outputs": [],
   "source": [
    "Teo = Mascota(\"Teo\",\"Perro\")"
   ]
  },
  {
   "cell_type": "code",
   "execution_count": null,
   "metadata": {
    "colab": {},
    "colab_type": "code",
    "id": "XJ4AQjxzES9Z"
   },
   "outputs": [],
   "source": [
    "print(Teo)"
   ]
  },
  {
   "cell_type": "code",
   "execution_count": null,
   "metadata": {
    "colab": {},
    "colab_type": "code",
    "id": "8hKCuS8QFx4k"
   },
   "outputs": [],
   "source": [
    "Teo.especie='Gato'"
   ]
  },
  {
   "cell_type": "code",
   "execution_count": null,
   "metadata": {
    "colab": {},
    "colab_type": "code",
    "id": "L1mbbGJbF2qM"
   },
   "outputs": [],
   "source": [
    "print(Teo)"
   ]
  },
  {
   "cell_type": "code",
   "execution_count": null,
   "metadata": {
    "colab": {},
    "colab_type": "code",
    "id": "gzdIUB-PCY-Q"
   },
   "outputs": [],
   "source": [
    "?Teo.darEspecie"
   ]
  },
  {
   "cell_type": "markdown",
   "metadata": {
    "colab_type": "text",
    "id": "vG1rGnfUyAw_"
   },
   "source": [
    "# Funciones lambda\n",
    "\n",
    "Lambdas es la forma de Python de definir funciones anónimas muy simples cuyo valor de retorno es el resultado de evaluar una sola expresión.\n",
    "\n",
    "```python\n",
    "lambda argumentos: resultado\n",
    "```\n",
    "\n",
    "Una de las razones por las que desees utilizar este tipo de funciones es por rapidez y en ciertos casos claridad del código."
   ]
  },
  {
   "cell_type": "code",
   "execution_count": null,
   "metadata": {
    "colab": {},
    "colab_type": "code",
    "id": "L-9Zzcf-xV9M"
   },
   "outputs": [],
   "source": [
    "# Define function\n",
    "def function_sum(x,y):\n",
    "  return x + y\n",
    "function_sum(2,3)"
   ]
  },
  {
   "cell_type": "code",
   "execution_count": null,
   "metadata": {
    "colab": {},
    "colab_type": "code",
    "id": "F2cBw1UCzXxu"
   },
   "outputs": [],
   "source": [
    "# Define lambda\n",
    "lambda_function = lambda x,y: x + y\n",
    "lambda_function(2,3)"
   ]
  },
  {
   "cell_type": "markdown",
   "metadata": {
    "colab_type": "text",
    "id": "CCrgLw9kInl6"
   },
   "source": [
    "## Usando Lambda con Sorted"
   ]
  },
  {
   "cell_type": "code",
   "execution_count": null,
   "metadata": {
    "colab": {},
    "colab_type": "code",
    "id": "tubNIOE1IlNX"
   },
   "outputs": [],
   "source": [
    "data_recs = [\n",
    "  [ \"Maria\",  7.0, 8.0, 3.0 ],\n",
    "  [ \"Juan\" ,  5.0, 2.0, 2.0 ],\n",
    "  [ \"Mateo\",  1.0, 4.0, 4.0 ],     \n",
    "]"
   ]
  },
  {
   "cell_type": "markdown",
   "metadata": {
    "colab_type": "text",
    "id": "I0gMsYRKI0vS"
   },
   "source": [
    "Se quiere ordenar estos registros por el valor del primer componente numérico (índice 1 en la lista)"
   ]
  },
  {
   "cell_type": "code",
   "execution_count": null,
   "metadata": {
    "colab": {},
    "colab_type": "code",
    "id": "cnnxmx34GLCP"
   },
   "outputs": [],
   "source": [
    "data_recs[:][1][1]"
   ]
  },
  {
   "cell_type": "code",
   "execution_count": null,
   "metadata": {
    "colab": {},
    "colab_type": "code",
    "id": "gpyAT554sq6Q"
   },
   "outputs": [],
   "source": [
    "sorted(data_recs)"
   ]
  },
  {
   "cell_type": "code",
   "execution_count": null,
   "metadata": {
    "colab": {},
    "colab_type": "code",
    "id": "OzS9mRMOI12A"
   },
   "outputs": [],
   "source": [
    "records_sorted = sorted(data_recs, key = lambda rec : rec[1])\n",
    "records_sorted"
   ]
  },
  {
   "cell_type": "markdown",
   "metadata": {
    "colab_type": "text",
    "id": "u5yJ_cd0caZ3"
   },
   "source": [
    "## Ejercicio 6\n",
    "\n",
    "Modifique el anterior ejemplo y ordene los registros en order descendiente por el ultimo record. Ayuda ( reverse = True )"
   ]
  },
  {
   "cell_type": "code",
   "execution_count": null,
   "metadata": {
    "colab": {},
    "colab_type": "code",
    "id": "PSAOrEaoqRWM"
   },
   "outputs": [],
   "source": [
    "help(sorted)"
   ]
  },
  {
   "cell_type": "code",
   "execution_count": null,
   "metadata": {
    "colab": {},
    "colab_type": "code",
    "id": "sGLTLVN8cg-Z"
   },
   "outputs": [],
   "source": [
    "# Your Code"
   ]
  },
  {
   "cell_type": "markdown",
   "metadata": {
    "colab_type": "text",
    "id": "B4ldG2-h1zj5"
   },
   "source": [
    "# Función filter()\n",
    "\n",
    "Es una función que permite filtrar, a partir de una lista o iterador y una función condicional, es capaz de devolver una nueva colección con los elementos filtrados que cumplan la condición.  En este tipo de función las funciones `lambda` son muy utiles.\n",
    "\n",
    "La función `filter(funcion,iterable)` construye una lista con aquellos elementos en los cuales `funcion(iterable[i])` retorna `True`.\n"
   ]
  },
  {
   "cell_type": "code",
   "execution_count": null,
   "metadata": {
    "colab": {},
    "colab_type": "code",
    "id": "UVIJlDDm5ZKj"
   },
   "outputs": [],
   "source": [
    "a = [0, 1, -1, -2, 3, -4, 5, 6, 7]\n",
    "resultado = filter(lambda x: x > 0, a)"
   ]
  },
  {
   "cell_type": "code",
   "execution_count": null,
   "metadata": {
    "colab": {},
    "colab_type": "code",
    "id": "Juc5egnQvOw7"
   },
   "outputs": [],
   "source": [
    "for val in resultado:\n",
    "  print(val)"
   ]
  },
  {
   "cell_type": "code",
   "execution_count": null,
   "metadata": {
    "colab": {},
    "colab_type": "code",
    "id": "jTD6YlIAvZhc"
   },
   "outputs": [],
   "source": [
    "list(resultado)"
   ]
  },
  {
   "cell_type": "code",
   "execution_count": null,
   "metadata": {
    "colab": {},
    "colab_type": "code",
    "id": "yhhtTZNJzi3E"
   },
   "outputs": [],
   "source": [
    "def multiple(numero):    # Primero declaramos una función condicional\n",
    "    if numero % 5 == 0:  # Comprobamos si un numero es múltiple de cinco\n",
    "        return True      # Sólo devolvemos True si lo es\n",
    "\n",
    "numeros = [2, 5, 10, 23, 50, 33]\n",
    "\n",
    "list(filter(multiple, numeros))"
   ]
  },
  {
   "cell_type": "code",
   "execution_count": null,
   "metadata": {
    "colab": {},
    "colab_type": "code",
    "id": "S3Wh1MMf2jy7"
   },
   "outputs": [],
   "source": [
    "list( filter(lambda numero: numero%5 == 0, numeros) )"
   ]
  },
  {
   "cell_type": "markdown",
   "metadata": {
    "colab_type": "text",
    "id": "ea0V1PIz2_k3"
   },
   "source": [
    "## Filtrando objetos"
   ]
  },
  {
   "cell_type": "code",
   "execution_count": null,
   "metadata": {
    "colab": {},
    "colab_type": "code",
    "id": "6vyVk4GE2-sB"
   },
   "outputs": [],
   "source": [
    "# Definimos una clase persona\n",
    "class Persona:\n",
    "\n",
    "    def __init__(self, nombre, edad):\n",
    "        self.nombre = nombre\n",
    "        self.edad = edad\n",
    "\n",
    "    def __str__(self):\n",
    "        return \"{} de {} años\".format(self.nombre, self.edad)\n",
    "\n",
    "# Se crea una lista con 4 personas\n",
    "personas = [\n",
    "    Persona(\"Juan\", 35),\n",
    "    Persona(\"Marta\", 16),\n",
    "    Persona(\"Manuel\", 78),\n",
    "    Persona(\"Eduardo\", 12)\n",
    "]\n",
    "\n",
    "# Visualizamos la lista\n",
    "for p in personas:\n",
    "    print(p)"
   ]
  },
  {
   "cell_type": "code",
   "execution_count": null,
   "metadata": {
    "colab": {},
    "colab_type": "code",
    "id": "1aZrKfZ723vB"
   },
   "outputs": [],
   "source": [
    "# Se desea filtrar los menores de 18\n",
    "menores = filter(lambda persona: persona.edad < 18, personas)\n",
    "\n",
    "# Visualizamos los objetos de la lista filtrada\n",
    "for menor in menores:\n",
    "    print(menor)"
   ]
  },
  {
   "cell_type": "markdown",
   "metadata": {
    "colab_type": "text",
    "id": "jvwFgni-G21s"
   },
   "source": [
    "# Función map()\n",
    "\n",
    "Funciona similar a `filter()`, con la diferencia que en lugar de aplicar una condición a un elemento de una lista o secuencia, aplica una función sobre todos los elementos y como resultado se devuelve un iterable de tipo map."
   ]
  },
  {
   "cell_type": "code",
   "execution_count": null,
   "metadata": {
    "colab": {},
    "colab_type": "code",
    "id": "Lh2S_KoBGEYo"
   },
   "outputs": [],
   "source": [
    "numeros = [2, 5, 10, 23, 50, 33]\n",
    "list( map(lambda x: x*2, numeros) )"
   ]
  },
  {
   "cell_type": "markdown",
   "metadata": {
    "colab_type": "text",
    "id": "9YusI2PeH23G"
   },
   "source": [
    "La función `map()` se utiliza mucho junto a expresiones lambda ya que permite ahorrar esfuerzo creando ciclos FOR.  Adicional se puede utilizar sobre más de un iterable con la condición que tengan la misma longitud."
   ]
  },
  {
   "cell_type": "code",
   "execution_count": null,
   "metadata": {
    "colab": {},
    "colab_type": "code",
    "id": "PEzzQDI9HiTn"
   },
   "outputs": [],
   "source": [
    "a = [1, 2, 3, 4, 5]\n",
    "b = [6, 7, 8, 9, 10]\n",
    "\n",
    "list( map(lambda x,y : x*y, a,b) )"
   ]
  },
  {
   "cell_type": "code",
   "execution_count": null,
   "metadata": {
    "colab": {},
    "colab_type": "code",
    "id": "uKmVqAWxH8Fy"
   },
   "outputs": [],
   "source": [
    "c = [11, 12, 13, 14, 15]\n",
    "\n",
    "list( map(lambda x,y,z : x*y*z, a,b,c) )"
   ]
  },
  {
   "cell_type": "markdown",
   "metadata": {
    "colab_type": "text",
    "id": "1NbNO5ATIDOn"
   },
   "source": [
    "## Mapeando objetos"
   ]
  },
  {
   "cell_type": "code",
   "execution_count": null,
   "metadata": {
    "colab": {},
    "colab_type": "code",
    "id": "Wglb4CfPH83A"
   },
   "outputs": [],
   "source": [
    "personas = map(lambda p: Persona(p.nombre, p.edad+1), personas)\n",
    "\n",
    "for persona in personas:\n",
    "    print(persona)"
   ]
  },
  {
   "cell_type": "markdown",
   "metadata": {
    "colab_type": "text",
    "id": "J9_oR2G3JC2y"
   },
   "source": [
    "# List comprehensions\n",
    "\n",
    "Es una funcionalidad que nos permite crear listas en una misma linea de codigo.  "
   ]
  },
  {
   "cell_type": "markdown",
   "metadata": {
    "colab_type": "text",
    "id": "X9i2_7F4MUlV"
   },
   "source": [
    "## Ciclos y List Comprenhensions\n",
    "\n",
    "Supongamos que nos dan: \n",
    "\n",
    "* Una lista de entrada input_arr = [elem1, elem2, elem3, ...]\n",
    "* Una función fun\n",
    "\n",
    "Queremos producir el array output_arr = [fun (elem1), fun (elem2), fun (elem3)], es decir, con aplicar fun a cada elemento de la matriz y devolver los resultados.\n",
    "\n",
    "Aquí es cómo la mayoría de los programadores abordarían este problema:"
   ]
  },
  {
   "cell_type": "code",
   "execution_count": null,
   "metadata": {
    "colab": {},
    "colab_type": "code",
    "id": "t2B-RQvMILkw"
   },
   "outputs": [],
   "source": [
    "input_arr = [\"maria\", \"ana\", \"sara\"]\n",
    "capitalize = lambda a_str :  a_str[0].upper() + a_str[1:]\n",
    "\n",
    "# NON-Idiomatic Python code follows: \n",
    "output_arr = []\n",
    "for elem in input_arr : \n",
    "    output_arr.append( capitalize( elem ) )\n",
    "    \n",
    "output_arr"
   ]
  },
  {
   "cell_type": "markdown",
   "metadata": {
    "colab_type": "text",
    "id": "kI86sjG2J18y"
   },
   "source": [
    "Eso es aproximadamente 3 líneas. No está mal, pero podría ser mucho mejor.\n",
    "La solución idiomática de Python se llama **List (or for) comprehension**.\n",
    "\n",
    "```python\n",
    "[funcion(x) for item in list1]\n",
    "```"
   ]
  },
  {
   "cell_type": "code",
   "execution_count": null,
   "metadata": {
    "colab": {},
    "colab_type": "code",
    "id": "VN4k_PnqJrRL"
   },
   "outputs": [],
   "source": [
    "output_arr2 = [ capitalize(elem)  for elem in input_arr ]\n",
    "print(output_arr2)"
   ]
  },
  {
   "cell_type": "markdown",
   "metadata": {
    "colab_type": "text",
    "id": "IBgBFzGGMvAq"
   },
   "source": [
    "## Condicionales en List Comprehensions\n",
    "\n",
    "En este caso se desea realizar un condicional para definir el valor, se tienen dos estructuras, si la condición solo tiene IF, o si se tiene la estructura IF-ELSE\n",
    "\n",
    "```python\n",
    "[result1 if conditional else result2 for item in list1 ]\n",
    "[result for item in list1 if conditional]\n",
    "```"
   ]
  },
  {
   "cell_type": "code",
   "execution_count": null,
   "metadata": {
    "colab": {},
    "colab_type": "code",
    "id": "TmY6FybfJ8l3"
   },
   "outputs": [],
   "source": [
    "squares_cubes = [n**2 if n%2 == 0 else n**3 for n in range(1,16)]\n",
    "print(squares_cubes)"
   ]
  },
  {
   "cell_type": "code",
   "execution_count": null,
   "metadata": {
    "colab": {},
    "colab_type": "code",
    "id": "_1c0EeWNLmHi"
   },
   "outputs": [],
   "source": [
    "evens = [n for n in range(1,21) if n%2 == 0] \n",
    "print(evens)"
   ]
  },
  {
   "cell_type": "markdown",
   "metadata": {
    "colab_type": "text",
    "id": "x5BXGCvtL1xX"
   },
   "source": [
    "## List Comprehensions para ciclos anidados\n",
    "\n",
    "También puede usarse para realizar operaciones en ciclos anidados como recorrer una lista de listas.\n",
    "\n",
    "```python\n",
    "[ <the_expression> for <element_a> in <iterable_a> (optional if <condition_a>)\n",
    "                   for <element_b> in <iterable_b> (optional if <condition_b>)\n",
    "                   for <element_c> in <iterable_c> (optional if <condition_c>)\n",
    "                   ... and so on ...]\n",
    "```"
   ]
  },
  {
   "cell_type": "code",
   "execution_count": null,
   "metadata": {
    "colab": {},
    "colab_type": "code",
    "id": "WpW-Pn3DLo7F"
   },
   "outputs": [],
   "source": [
    "matrix = [\n",
    "    [1, 2, 3, 4],\n",
    "    [5, 6, 7, 8],\n",
    "    [9, 10, 11, 12],\n",
    "]\n",
    " \n",
    "flatten = [n for row in matrix if sum(row)>11 for n in row if n%2==0]\n",
    " \n",
    "print(flatten)"
   ]
  },
  {
   "cell_type": "markdown",
   "metadata": {
    "colab_type": "text",
    "id": "9kAz9Pw9NrKn"
   },
   "source": [
    "## List Comprehensions anidados"
   ]
  },
  {
   "cell_type": "code",
   "execution_count": null,
   "metadata": {
    "colab": {},
    "colab_type": "code",
    "id": "yZcbroKdMI9X"
   },
   "outputs": [],
   "source": [
    "matrix = [\n",
    "    [1, 2, 3, 4],\n",
    "    [5, 6, 7, 8],\n",
    "    [9, 10, 11, 12],\n",
    "]\n",
    " \n",
    "transpose = [[row[n] for row in matrix] for n in range(4)]\n",
    " \n",
    "print(transpose)"
   ]
  },
  {
   "cell_type": "markdown",
   "metadata": {
    "colab_type": "text",
    "id": "RqXeK4cKdHyx"
   },
   "source": [
    "## Ejercicio 7\n",
    "\n",
    "Defina una función avg1 que tome una lista que conste del nombre de una persona (str) y luego solo números y calcula y devuelve el promedio de esos números.\n",
    "\n",
    "Por ejemplo: \n",
    "```python\n",
    "avg1 (['Mateo', 5.0, 2.0, 2.0])\n",
    "``` \n",
    "debe devolver 3, es el resultado de realizar la siguiente operación: `((5 + 2 + 2) / 3))`"
   ]
  },
  {
   "cell_type": "code",
   "execution_count": null,
   "metadata": {
    "colab": {},
    "colab_type": "code",
    "id": "hRdoA366dpAg"
   },
   "outputs": [],
   "source": [
    "def avg1(lst):\n",
    "  # Your code\n",
    "  result = 0\n",
    "  return result\n",
    "\n",
    "print(avg1([\"mateo\",5,2,2]))"
   ]
  },
  {
   "cell_type": "markdown",
   "metadata": {
    "colab_type": "text",
    "id": "0u78C5UsdxP_"
   },
   "source": [
    "## Ejercicio 8\n",
    "\n",
    "Use list-comprehension para aplicar la función avg1 definida anteriormente a cada registro en data_recs.\n",
    "\n",
    "```python\n",
    "data_recs = [\n",
    "  [ \"Juan\" ,  5.0, 2.0, 2.0 ],\n",
    "  [ \"Maria\",  7.0, 8.0, 3.0 ], \n",
    "  [ \"Mateo\",  1.0, 4.0, 4.0 ],     \n",
    "]\n",
    "````"
   ]
  },
  {
   "cell_type": "code",
   "execution_count": null,
   "metadata": {
    "colab": {},
    "colab_type": "code",
    "id": "WR9gxkcOdwC1"
   },
   "outputs": [],
   "source": [
    "# Your Code"
   ]
  },
  {
   "cell_type": "markdown",
   "metadata": {
    "colab_type": "text",
    "id": "V64E5XkRPEK-"
   },
   "source": [
    "# Módulos y Paquetes\n",
    "\n",
    "Los módulos son ficheros que contienen definiciones que se pueden importar en otros scripts para reutilizar funcionalidades.  Se pueden organizar en paquetes y subpaquetes, adicional se importarian sólo cuando es necesario.\n",
    "\n",
    "Nosotros podemos crear nuestros propios módulos o paquetes, o utilizar ya algunos creados por otras personas y que estan disponibles para su uso.  \n",
    "\n",
    "Para instalar un paquete en Python se realiza de la siguiente manera:\n",
    "\n",
    "```python\n",
    "pip install pandas\n",
    "````\n",
    "\n",
    "Si se desea desinstalar:\n",
    "```python\n",
    "pip uninstall pandas\n",
    "````\n",
    "\n",
    "\n"
   ]
  },
  {
   "cell_type": "code",
   "execution_count": null,
   "metadata": {
    "colab": {},
    "colab_type": "code",
    "id": "uM4IjrYB4-I2"
   },
   "outputs": [],
   "source": [
    "!pip install pandas"
   ]
  },
  {
   "cell_type": "code",
   "execution_count": null,
   "metadata": {
    "colab": {},
    "colab_type": "code",
    "id": "-B9kluio5Okd"
   },
   "outputs": [],
   "source": [
    "!ls"
   ]
  },
  {
   "cell_type": "code",
   "execution_count": null,
   "metadata": {
    "colab": {},
    "colab_type": "code",
    "id": "QU89EhF-5pqA"
   },
   "outputs": [],
   "source": [
    "!mkdir temp"
   ]
  },
  {
   "cell_type": "markdown",
   "metadata": {
    "colab_type": "text",
    "id": "IOVKRhDzQ-YV"
   },
   "source": [
    "## Módulos estándar\n",
    "\n",
    "Estos son algunos módulos esenciales de Python:\n"
   ]
  },
  {
   "cell_type": "markdown",
   "metadata": {
    "colab_type": "text",
    "id": "Hj0RjhH3ZNud"
   },
   "source": [
    "###**collections**\n",
    "\n",
    "Añade funcionalidades especificas a las listas."
   ]
  },
  {
   "cell_type": "code",
   "execution_count": null,
   "metadata": {
    "colab": {},
    "colab_type": "code",
    "id": "ruIp3K95NxpY"
   },
   "outputs": [],
   "source": [
    "from collections import Counter\n",
    "\n",
    "l = [1,2,3,4,1,2,3,1,2,1]\n",
    "Counter(l)"
   ]
  },
  {
   "cell_type": "code",
   "execution_count": null,
   "metadata": {
    "colab": {},
    "colab_type": "code",
    "id": "Ox_LPFQcQHK3"
   },
   "outputs": [],
   "source": [
    "animales = \"gato perro canario perro canario perro\"\n",
    "c = Counter(animales.split())\n",
    "print(c)"
   ]
  },
  {
   "cell_type": "markdown",
   "metadata": {
    "colab_type": "text",
    "id": "O1jt3F0HVTHT"
   },
   "source": [
    "\n",
    "###**datetime**\n",
    "\n",
    "Utilizado para manejar las fechas y las horas. \n"
   ]
  },
  {
   "cell_type": "code",
   "execution_count": null,
   "metadata": {
    "colab": {},
    "colab_type": "code",
    "id": "fbQfzFwMUzpL"
   },
   "outputs": [],
   "source": [
    "from datetime import datetime\n",
    "\n",
    "dt = datetime.now()    # Fecha y hora actual\n",
    "\n",
    "print(dt)\n",
    "print(dt.year)         # año\n",
    "print(dt.month)        # mes\n",
    "print(dt.day)          # día\n",
    "\n",
    "print(dt.hour)         # hora\n",
    "print(dt.minute)       # minutos\n",
    "print(dt.second)       # segundos\n",
    "print(dt.microsecond)  # microsegundos\n",
    "\n",
    "print(\"{}:{}:{}\".format(dt.hour, dt.minute, dt.second))\n",
    "print(\"{}/{}/{}\".format(dt.day, dt.month, dt.year))"
   ]
  },
  {
   "cell_type": "code",
   "execution_count": null,
   "metadata": {
    "colab": {},
    "colab_type": "code",
    "id": "TjH6nk3cV0Ok"
   },
   "outputs": [],
   "source": [
    "from datetime import datetime, timedelta\n",
    "\n",
    "dt = datetime.now()\n",
    "print(dt.strftime(\"%A %d de %b del %y - %H:%M\"))\n",
    "\n"
   ]
  },
  {
   "cell_type": "code",
   "execution_count": null,
   "metadata": {
    "colab": {},
    "colab_type": "code",
    "id": "dvPDZUI48B-0"
   },
   "outputs": [],
   "source": [
    "# Generamos 14 días con 4 horas y 1000 segundos de tiempo\n",
    "t = timedelta(days=14, hours=4, seconds=1000)\n",
    "\n",
    "# Lo operamos con el datetime de la fecha y hora actual\n",
    "dentro_de_dos_semanas = dt + t\n",
    "print(dentro_de_dos_semanas.strftime(\"%A %d de %B del %Y - %H:%M\"))\n",
    "hace_dos_semanas = dt - t\n",
    "print(hace_dos_semanas.strftime(\"%A %d de %B del %Y - %H:%M\"))\n"
   ]
  },
  {
   "cell_type": "markdown",
   "metadata": {
    "colab_type": "text",
    "id": "ipNj14XIVX3b"
   },
   "source": [
    "###**math**\n",
    "\n",
    "Incluye funciones matematicas."
   ]
  },
  {
   "cell_type": "code",
   "execution_count": null,
   "metadata": {
    "colab": {},
    "colab_type": "code",
    "id": "JtXisqlxWNkY"
   },
   "outputs": [],
   "source": [
    "import math\n",
    "\n",
    "print(math.floor(3.99))  # Redondeo a la baja (suelo)\n",
    "print(math.ceil(3.01))   # Redondeo al alta (techo)"
   ]
  },
  {
   "cell_type": "code",
   "execution_count": null,
   "metadata": {
    "colab": {},
    "colab_type": "code",
    "id": "j9j31YJlWVaB"
   },
   "outputs": [],
   "source": [
    "print(math.pi)  # Constante pi\n",
    "print(math.e)   # Constante e"
   ]
  },
  {
   "cell_type": "markdown",
   "metadata": {
    "colab_type": "text",
    "id": "05h-L9L0WioU"
   },
   "source": [
    "###**random**\n",
    "\n",
    "Sirve para generar contenidos aleatorios, escoger aleatoriamente valores y este tipo de cosas que hacen que un programa tenga comportamientos al azar. "
   ]
  },
  {
   "cell_type": "code",
   "execution_count": null,
   "metadata": {
    "colab": {},
    "colab_type": "code",
    "id": "HcYYb7QLWohZ"
   },
   "outputs": [],
   "source": [
    "import random\n",
    "\n",
    "# Flotante aleatorio >= 0 y < 1.0\n",
    "print(random.random())      \n",
    "\n",
    "# Flotante aleatorio >= 1 y <10.0       \n",
    "print(random.uniform(1,10))\n",
    "\n",
    "# Entero aleatorio de 0 a 9, 10 excluído\n",
    "print(random.randrange(10))\n",
    "\n",
    "# Entero aleatorio de 0 a 100\n",
    "print(random.randrange(0,101))\n",
    "\n",
    "# Entero aleatorio de 0 a 100 cada 2 números, múltiples de 2\n",
    "print(random.randrange(0,101,2))\n",
    "\n",
    "# Entero aleatorio de 0 a 100 cada 5 números, múltiples de 5\n",
    "print(random.randrange(0,101,5))"
   ]
  },
  {
   "cell_type": "code",
   "execution_count": null,
   "metadata": {
    "colab": {},
    "colab_type": "code",
    "id": "_g2zGNjV-Fu9"
   },
   "outputs": [],
   "source": [
    "help(random)"
   ]
  },
  {
   "cell_type": "code",
   "execution_count": null,
   "metadata": {
    "colab": {},
    "colab_type": "code",
    "id": "OTXQLEAxW7En"
   },
   "outputs": [],
   "source": [
    "# Letra aleatoria\n",
    "print(random.choice('Hola mundo'))\n",
    "\n",
    "# Elemento aleatorio\n",
    "print(random.choice([1,2,3,4,5]))\n",
    "\n",
    "# Dos elementos aleatorios\n",
    "print(random.sample([1,2,3,4,5], 2))"
   ]
  },
  {
   "cell_type": "code",
   "execution_count": null,
   "metadata": {
    "colab": {},
    "colab_type": "code",
    "id": "6H0nRvkSXACC"
   },
   "outputs": [],
   "source": [
    "# Barajar una lista, queda guardado\n",
    "lista = [1,2,3,4,5]\n",
    "random.shuffle(lista)\n",
    "print(lista)"
   ]
  },
  {
   "cell_type": "markdown",
   "metadata": {
    "colab_type": "text",
    "id": "buALHjIGWHGY"
   },
   "source": [
    "###**re**\n",
    "\n",
    "Es el módulo de las expresiones regulares (Regular Expressions). Utilizando una sintaxis especial, sirven para hacer comprobaciones y búsquedas. Son especialmente útiles trabajando con cadenas de caracteres, pero incluye muchos métodos alternativos.\n"
   ]
  },
  {
   "cell_type": "code",
   "execution_count": null,
   "metadata": {
    "colab": {},
    "colab_type": "code",
    "id": "bu3r2ILAVG1T"
   },
   "outputs": [],
   "source": [
    "import re\n",
    "patron1 = '[^A-Za-z0-9 ]+'\n",
    "patron2 = '[^A-Za-z ]+'\n",
    "cadena = 'Juan4 $Perez5%'\n",
    "print(re.sub(patron1, '_', cadena))\n",
    "print(re.sub(patron2, '_', cadena))"
   ]
  },
  {
   "cell_type": "markdown",
   "metadata": {
    "colab_type": "text",
    "id": "Z9BE1kOEWJAV"
   },
   "source": [
    "###**os** \n",
    "\n",
    "Funcionalidades dependientes del sistema Operativo."
   ]
  },
  {
   "cell_type": "code",
   "execution_count": null,
   "metadata": {
    "colab": {},
    "colab_type": "code",
    "id": "1UzzhRnVYNZe"
   },
   "outputs": [],
   "source": [
    "import os \n",
    "# Conocer el Directorio Actual\n",
    "print(os.getcwd())\n",
    "# Saber si el directorio Existe\n",
    "print(os.path.exists('/content'))"
   ]
  },
  {
   "cell_type": "markdown",
   "metadata": {
    "colab_type": "text",
    "id": "7VCJrhsGYGzB"
   },
   "source": [
    "###**sys**\n",
    "\n",
    "Nos permite conseguir información del entorno del sistema."
   ]
  },
  {
   "cell_type": "code",
   "execution_count": null,
   "metadata": {
    "colab": {},
    "colab_type": "code",
    "id": "XVYQsUh-WKeQ"
   },
   "outputs": [],
   "source": [
    "import sys\n",
    "#Retorna el número de versión de Python \n",
    "print(sys.version)\n",
    "#Retorna la plataforma sobre la cuál se está ejecutando el intérprete\n",
    "print(sys.platform)"
   ]
  },
  {
   "cell_type": "markdown",
   "metadata": {
    "colab_type": "text",
    "id": "vXI_AylSl_2B"
   },
   "source": [
    "###**csv**\n",
    "\n",
    "El módulo CSV tiene varias funciones y clases disponibles para leer y escribir CSVs."
   ]
  },
  {
   "cell_type": "markdown",
   "metadata": {
    "colab_type": "text",
    "id": "xTGmQ-1clD60"
   },
   "source": [
    "#### Integrando Google Drive con Colab"
   ]
  },
  {
   "cell_type": "code",
   "execution_count": null,
   "metadata": {
    "colab": {
     "base_uri": "https://localhost:8080/",
     "height": 122
    },
    "colab_type": "code",
    "executionInfo": {
     "elapsed": 34674,
     "status": "ok",
     "timestamp": 1582339423864,
     "user": {
      "displayName": "Ana Maria Lopez Moreno",
      "photoUrl": "https://lh3.googleusercontent.com/a-/AAuE7mB0_Tw2pkpOcz_PlEpYBDH7rBcOG1PkmZxJFZhvhg=s64",
      "userId": "16038023840580571231"
     },
     "user_tz": 300
    },
    "id": "SsCjihWRlIZ-",
    "outputId": "12e83b57-844f-4cf0-81cf-e165e15aefaf"
   },
   "outputs": [],
   "source": [
    "# Solo si se ejecuta desde Google Drive\n",
    "from google.colab import drive \n",
    "drive.mount('/content/gdrive')"
   ]
  },
  {
   "cell_type": "markdown",
   "metadata": {
    "colab_type": "text",
    "id": "jR_ID239mWDe"
   },
   "source": [
    "#### Leyendo un archivo CSV\n",
    "\n",
    "El archivo que se va a cargar fue tomado de los datos abiertos de Accidentes de tránsito registrados por la Secretaría de Movilidad de la Alcaldía de Medellin, desde el año 2014 al año en curso.  [Fuente](http://medata.gov.co/dataset/accidentalidad)"
   ]
  },
  {
   "cell_type": "code",
   "execution_count": null,
   "metadata": {
    "colab": {},
    "colab_type": "code",
    "id": "vRctOD8YlL5S"
   },
   "outputs": [],
   "source": [
    "from csv import reader\n",
    "opened_file = open('accidentalidad.csv') # Ruta del archivo si falla podria ser necesario adicionar encoding=\"utf-8\"\n",
    "read_file = reader(opened_file,delimiter=';')"
   ]
  },
  {
   "cell_type": "code",
   "execution_count": null,
   "metadata": {
    "colab": {},
    "colab_type": "code",
    "id": "WiT_0uo6B6Oz"
   },
   "outputs": [],
   "source": [
    "read_file"
   ]
  },
  {
   "cell_type": "code",
   "execution_count": null,
   "metadata": {
    "colab": {
     "base_uri": "https://localhost:8080/",
     "height": 833
    },
    "colab_type": "code",
    "executionInfo": {
     "elapsed": 753,
     "status": "ok",
     "timestamp": 1582339748505,
     "user": {
      "displayName": "Ana Maria Lopez Moreno",
      "photoUrl": "https://lh3.googleusercontent.com/a-/AAuE7mB0_Tw2pkpOcz_PlEpYBDH7rBcOG1PkmZxJFZhvhg=s64",
      "userId": "16038023840580571231"
     },
     "user_tz": 300
    },
    "id": "eUtY2qiOmfnu",
    "outputId": "ce9c0d43-9e1b-43f7-aa01-60bc9c5728a0"
   },
   "outputs": [],
   "source": [
    "# Visualizando la información\n",
    "apps_data = list(read_file)\n",
    "apps_data[:2]"
   ]
  },
  {
   "cell_type": "code",
   "execution_count": null,
   "metadata": {
    "colab": {},
    "colab_type": "code",
    "id": "KsV9PzlLleOj"
   },
   "outputs": [],
   "source": [
    "# Funcion que genera diccionario de frecuencias\n",
    "def freq_table(data_set, index):\n",
    "    frequency_table = {}\n",
    "    \n",
    "    for row in data_set[1:]:\n",
    "        value = row[index]\n",
    "        if value in frequency_table:\n",
    "            frequency_table[value] += 1\n",
    "        else:\n",
    "            frequency_table[value] = 1\n",
    "        \n",
    "    return frequency_table"
   ]
  },
  {
   "cell_type": "code",
   "execution_count": null,
   "metadata": {
    "colab": {},
    "colab_type": "code",
    "id": "0ZHfByoymdrD"
   },
   "outputs": [],
   "source": [
    "# Clases de Accidentes\n",
    "freq_table(apps_data,5)"
   ]
  },
  {
   "cell_type": "code",
   "execution_count": null,
   "metadata": {
    "colab": {},
    "colab_type": "code",
    "id": "riq6kehPnE6W"
   },
   "outputs": [],
   "source": [
    "# Localizacion de Accidentes\n",
    "freq_table(apps_data,9)"
   ]
  },
  {
   "cell_type": "code",
   "execution_count": null,
   "metadata": {
    "colab": {},
    "colab_type": "code",
    "id": "OfjEHkZknP2K"
   },
   "outputs": [],
   "source": [
    "# Gravedad de los Accidentes\n",
    "freq_table(apps_data,17)"
   ]
  }
 ],
 "metadata": {
  "colab": {
   "collapsed_sections": [],
   "name": "Fundamentos de Python Parte 2.ipynb",
   "provenance": []
  },
  "kernelspec": {
   "display_name": "Python 3",
   "language": "python",
   "name": "python3"
  },
  "language_info": {
   "codemirror_mode": {
    "name": "ipython",
    "version": 3
   },
   "file_extension": ".py",
   "mimetype": "text/x-python",
   "name": "python",
   "nbconvert_exporter": "python",
   "pygments_lexer": "ipython3",
   "version": "3.8.1"
  }
 },
 "nbformat": 4,
 "nbformat_minor": 1
}
