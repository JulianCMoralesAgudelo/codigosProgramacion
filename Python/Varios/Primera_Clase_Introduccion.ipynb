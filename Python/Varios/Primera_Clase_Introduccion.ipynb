{
  "nbformat": 4,
  "nbformat_minor": 0,
  "metadata": {
    "colab": {
      "name": "Primera_Clase_Introduccion.ipynb",
      "provenance": []
    },
    "kernelspec": {
      "name": "python3",
      "display_name": "Python 3"
    }
  },
  "cells": [
    {
      "cell_type": "markdown",
      "metadata": {
        "id": "UXJSJ8ViH3h2"
      },
      "source": [
        "# Que es Pyhton?\n",
        "\n",
        "##### Python es un lenguaje de programacion multiplataforma de alto nivel de proposito general, ya que su utilidad depende en gran medida de las librerias que carguemos en la cabezera para utilizar sus funciones predefinidas. \n",
        "\n",
        "##### El creador del lenguaje es un europeo llamado Guido Van Rossum. Hace ya más de una década que diseño Python, ayudado y motivado por su experiencia en la creación de otro lenguaje llamado ABC. El objetivo de Guido era cubrir la necesidad de un lenguaje orientado a objetos de sencillo uso que sirviese para tratar diversas tareas dentro de la programación que habitualmente se hacía en Unix usando C.\n",
        "\n",
        "##### El desarrollo de Python duró varios años, durante los que trabajó en diversas compañías de Estados Unidos. En el 2000 ya disponía de un producto bastante completo y un equipo de desarrollo con el que se había asociado incluso en proyectos empresariales. Actualmente trabaja en Zope, una plataforma de gestión de contenidos y servidor de aplicaciones para el web, por supuesto, programada por completo en Python.\n",
        "\n",
        "##### Sin embargo es de especial interes aprender primero las bases de Python. en el presente curso hemos definido el contenido tematico de la siguiente forma:\n",
        "\n",
        "\n",
        "* Sintaxis basica de python\n",
        "  * Python 2.XX vs Python 3.XX\n",
        "  * Tabulacion\n",
        "  * Lenguaje Interpretado Vs Compilado\n",
        "  * Palabras Clave\n",
        "  * Variables Booleana, Numerica (entero y flotante), Caracteres, Notacion Cientifica.\n",
        "  * Sistemas numericos Decimal, Hexagesimal, Octal, Binario.\n",
        "  * Comentarios\n",
        "  * Funcion print()\n",
        "  * Funcion Input()\n",
        "  * Operadores numericos *, **, /, //, %, +, -\n",
        "  * Operadores de cadenas *, +\n",
        "*   Declaracion de variables\n",
        "  * Valor numerico \n",
        "      *   Enteros\n",
        "      *   Flotantes\n",
        "  * Valores alfanumericos\n",
        "      * Caracter\n",
        "      * Cadena de caracteres.\n",
        "  * Valores mixtos\n",
        "      * Arreglos\n",
        "      * Tupla\n",
        "      * Diccionarios\n",
        "* Operaciones con variables\n",
        "  * Imprimir en pantalla\n",
        "  * Operaciones numericas\n",
        "  * Operaciones con Cadenas y Caracteres\n",
        "  * Concatenar\n",
        "\n",
        "\n",
        "\n",
        "\n",
        "\n"
      ]
    },
    {
      "cell_type": "markdown",
      "metadata": {
        "id": "dCxN6MI5PfdA"
      },
      "source": [
        "# Python 2.XX Vs Python 3.XX\n",
        "Si quieres aprender a programar con este lenguaje probablemente te preguntes con qué versión deberías empezar. Mi respuesta es con la 3 y veamos por qué. Por un lado la versión 2.7 llegó a su fin de ciclo en el año 2020, y no habrá una versión 2.8. Esto no significa que no se pueda utilizar más, simplemente que no va a recibir más actualizaciones. A parte, las librerías más populares disponibles en Python ya están adaptadas a la versión 3.0 del lenguaje. Por otro lado, también hay que tener en cuenta que quizás acabes trabajando en una empresa que ya tenga código desarrollado en Python 2 que se tenga que mantener; con lo que conocer algunos detalles de la versión 2.x también te puede ser útil. \n",
        "\n",
        "Python se ha actualizado en varias versiones, la mayoria de funciones que operan en python 2 funcionan en python 3, sin embargo algunas sintaxis como por ejemplo en python 2 \n",
        "```\n",
        " print \"hola mundo\"\n",
        "```\n",
        "funciona perfectamente en python 3 no funciona ya que las funciones en python 3 deben tener su argumento encerrado dentro de dos parentesis\n",
        "```\n",
        "  print(\"hola mundo\")\n",
        "```\n",
        "Tambien la division en python 2.XX cambia ya que la division entre enteros entrega la parte entera:\n",
        "```\n",
        "  1/2 = 0\n",
        "  1.0/2.0 = 0.5\n",
        "```\n",
        "Mientras en python 3.XX la division puede dar un valor flotante independiente de si el numerador o el denominador son enteros. si queremos solo la parte entera debemos usar el operador division entera que es //:\n",
        "```\n",
        "  1/2 = 0.5\n",
        "  1.0/2.0 = 0.5\n",
        "  1//2=0\n",
        "```\n",
        "Entre otras diferencias que se notan en la programacion debemos muchas veces adaptar codigo de python 2.XX a python 3.XX por eso es bueno conocer muchas de sus diferencias.\n"
      ]
    },
    {
      "cell_type": "markdown",
      "metadata": {
        "id": "OaFeUa5NrVvW"
      },
      "source": [
        "#Tabulacion\n",
        "\n",
        "En muchos lenguajes como C/C++ se utilizan delimitadores de codigo {}, en otros como por ejemplo matlab se utilizan las etiquetas begin() end() para demarcar donde empieza un programa o un conjunto de instrucciones. En python la demarcacion esta fuertemente ligada a los 4 espacios o una tabulacion en la mayoria de los IDE. asi que si nesitas anidar algo a un if seria asi:\n",
        "```\n",
        "a=int(input('ingrese un numero'))\n",
        "if a>0:\n",
        "  a=1\n",
        "else:\n",
        "  a=0\n",
        "print('el valor de a es: %d '%a)\n",
        "```"
      ]
    },
    {
      "cell_type": "code",
      "metadata": {
        "colab": {
          "base_uri": "https://localhost:8080/"
        },
        "id": "zbWx2aJltlri",
        "outputId": "b9580e1c-341d-4822-fc39-4dcc94d03391"
      },
      "source": [
        "a=int(input('ingrese un numero: ')) # se usa int( input('argument') ) porque input() lee siempre valores alfanumericos, como a queremos que sea un entero lo convertimos a entero con int()\n",
        "if a>0:\n",
        "  a=1\n",
        "  print(\"es mayor que cero\")\n",
        "else:\n",
        "  a=0\n",
        "  print(\"es menor que cero\")\n",
        "print('el valor de a es: %d '%a)"
      ],
      "execution_count": 148,
      "outputs": [
        {
          "output_type": "stream",
          "text": [
            "ingrese un numero: -1\n",
            "es menor que cero\n",
            "el valor de a es: 0 \n"
          ],
          "name": "stdout"
        }
      ]
    },
    {
      "cell_type": "markdown",
      "metadata": {
        "id": "51lN9Q5vvVNP"
      },
      "source": [
        "#Interpretado\n",
        "Quiere decir que no se debe compilar el código antes de su ejecución. En realidad sí que se realiza una compilación, pero esta se realiza de manera transparente para el programador. En ciertos casos, cuando se ejecuta por primera vez un código, se producen unos bytecodes que se guardan en el sistema y que sirven para acelerar la compilación implícita que realiza el intérprete cada vez que se ejecuta el mismo código.\n",
        "\n",
        "Esto quiere decir que si estamos escribiendo un programa podemos ir probando codigo linea a linea para ver si efectivamente esta funcionando, y hacer las respectivas correciones en caliente, mientras que en un lenguaje compilado debemos escribir todo el programa y solo despues de complilar podremos saber si tiene errores o si se ejecuta.\n"
      ]
    },
    {
      "cell_type": "code",
      "metadata": {
        "colab": {
          "base_uri": "https://localhost:8080/"
        },
        "id": "6szBKAK9ejmO",
        "outputId": "c1e356ff-1d90-4731-c6f1-0b40a7c4a2ba"
      },
      "source": [
        "import numpy as np\n",
        "np.pi\n",
        "print(\"el valor es %4.4f\"%(np.sin(2*np.pi)))"
      ],
      "execution_count": 155,
      "outputs": [
        {
          "output_type": "stream",
          "text": [
            "el valor es -0.0000\n"
          ],
          "name": "stdout"
        }
      ]
    },
    {
      "cell_type": "code",
      "metadata": {
        "colab": {
          "base_uri": "https://localhost:8080/"
        },
        "id": "29SHODJpej4U",
        "outputId": "f64171ac-df99-41af-842f-0a2b6ad2000b"
      },
      "source": [
        "np.pi"
      ],
      "execution_count": 157,
      "outputs": [
        {
          "output_type": "execute_result",
          "data": {
            "text/plain": [
              "3.141592653589793"
            ]
          },
          "metadata": {
            "tags": []
          },
          "execution_count": 157
        }
      ]
    },
    {
      "cell_type": "code",
      "metadata": {
        "id": "RV6GEq6gej_o"
      },
      "source": [
        ""
      ],
      "execution_count": null,
      "outputs": []
    },
    {
      "cell_type": "code",
      "metadata": {
        "id": "3aPt5UkVej22"
      },
      "source": [
        ""
      ],
      "execution_count": null,
      "outputs": []
    },
    {
      "cell_type": "markdown",
      "metadata": {
        "id": "iYOxjZ9XwYKE"
      },
      "source": [
        "# Palabras Clave\n",
        "\n",
        "Son palabras que usa el compilador de python 3.XX por lo tanto ninguna funcion o variable puede tener el nombre de alguna de las palabras clave y estas son:\n",
        "\n",
        "### **False, None, True, and, as, assert, break, class, continue, def, del, elif, else, except, finally, for, from, global, if, import, in, is, lambda, nonlocal, not, or, pass, raise, return, try, while, with, yield**\n"
      ]
    },
    {
      "cell_type": "code",
      "metadata": {
        "colab": {
          "base_uri": "https://localhost:8080/"
        },
        "id": "prkYC4vntoIG",
        "outputId": "b2ca99ee-525b-4dca-d0c6-c367e35b1d47"
      },
      "source": [
        "edad = 10\n",
        "print(\"la persona es mayor de 18 años? \", edad >= 18)\n",
        "print(\"la persona es mayor de 5 años? \", edad >= 5)"
      ],
      "execution_count": 27,
      "outputs": [
        {
          "output_type": "stream",
          "text": [
            "la persona es mayor de 18 años?  False\n",
            "la persona es mayor de 5 años?  True\n"
          ],
          "name": "stdout"
        }
      ]
    },
    {
      "cell_type": "markdown",
      "metadata": {
        "id": "7b0eMlxqyhtF"
      },
      "source": [
        "# Variable Booleana \n",
        "\n",
        "Tipicamente es una variable que me permite tomar una decision, por ejemplo si alguien puede entrar o no a una discoteca:"
      ]
    },
    {
      "cell_type": "code",
      "metadata": {
        "colab": {
          "base_uri": "https://localhost:8080/"
        },
        "id": "EkWAYiIhgNRS",
        "outputId": "52da738f-e453-489e-e29e-cd400ef48067"
      },
      "source": [
        "ana = 1                          # a la variable ana le asigne el valor 15\n",
        "print(ana==0)                      # es una comparacion ¿ana es igual a 0? "
      ],
      "execution_count": 167,
      "outputs": [
        {
          "output_type": "stream",
          "text": [
            "False\n"
          ],
          "name": "stdout"
        }
      ]
    },
    {
      "cell_type": "code",
      "metadata": {
        "colab": {
          "base_uri": "https://localhost:8080/"
        },
        "id": "72H_NwrywtYA",
        "outputId": "5c69745f-e47c-4a6d-8025-fd1f4e04349e"
      },
      "source": [
        "ana = 35\n",
        "sofia = 8\n",
        "\n",
        "if ana>=18:\n",
        "  print(\"Ana puede entrar a la discoteca\")\n",
        "  print(ana>=18)\n",
        "else: \n",
        "  print(\"Ana no puede entrar a la discoteca\")\n",
        "  print(ana>=18)\n",
        "\n",
        "if sofia>=18:\n",
        "  print(\"Sofia puede entrar a la discoteca\")\n",
        "  print(sofia>=18)\n",
        "else: \n",
        "  print(\"Sofia no puede entrar a la discoteca\")\n",
        "  print(sofia>=18)\n"
      ],
      "execution_count": 169,
      "outputs": [
        {
          "output_type": "stream",
          "text": [
            "Ana puede entrar a la discoteca\n",
            "True\n",
            "Sofia no puede entrar a la discoteca\n",
            "False\n"
          ],
          "name": "stdout"
        }
      ]
    },
    {
      "cell_type": "markdown",
      "metadata": {
        "id": "Ey97HA8mztH0"
      },
      "source": [
        "Las variables booleanas con ayuda de las palabras clave **and, or** tambien nos ayudan a establecer una decision mas elaborada, por ejemplo entrar a una discoteca de jovenes si definimos como jovenes personas entre 18 y 30 años."
      ]
    },
    {
      "cell_type": "code",
      "metadata": {
        "colab": {
          "base_uri": "https://localhost:8080/"
        },
        "id": "6VNIdGgthsQg",
        "outputId": "5dad7aba-c252-40f6-c674-e5a36d96e77a"
      },
      "source": [
        "# a==b a es igual a b?, a<b ¿a es menor que b?, a<=b ¿a es menor o igual a b?, \n",
        "# a > b ¿a es mayor que b? a>=b ¿a es mayor o igual a b? \n",
        "ana=35\n",
        "sofia =20\n",
        "print(\"\\n\\n\") \n",
        "print(sofia>=18)\n",
        "print(ana>=18) \n",
        "print(\"\\n\\n\") \n",
        "print(sofia<=30)\n",
        "print(ana<=30)\n",
        "print(\"\\n\\n\") \n",
        "print(sofia>=18 and sofia<=30 )\n",
        "print(ana>=18 and ana <=30)\n",
        "print(\"\\n\\n\")  \n",
        "print(sofia>=18 or sofia<=30 )\n",
        "print(ana>=18 or ana <=30)"
      ],
      "execution_count": 175,
      "outputs": [
        {
          "output_type": "stream",
          "text": [
            "\n",
            "\n",
            "\n",
            "True\n",
            "True\n",
            "\n",
            "\n",
            "\n",
            "True\n",
            "False\n",
            "\n",
            "\n",
            "\n",
            "True\n",
            "False\n",
            "\n",
            "\n",
            "\n",
            "True\n",
            "True\n"
          ],
          "name": "stdout"
        }
      ]
    },
    {
      "cell_type": "code",
      "metadata": {
        "colab": {
          "base_uri": "https://localhost:8080/"
        },
        "id": "A316l85VzNCW",
        "outputId": "657ed841-93fc-4060-9637-f12a8774fec0"
      },
      "source": [
        "ana = 35\n",
        "sofia = 20\n",
        "\n",
        "\n",
        "if ana>=18 and ana<=30:\n",
        "  print(\"Ana puede entrar a la discoteca, porque es mayor de edad y joven\")\n",
        "  print(ana>=18 and ana<=30)\n",
        "else: \n",
        "  print(\"Ana no puede entrar a la discoteca, porque es menor de edad o muy vieja\")\n",
        "  print(ana>=18 and ana<=30)\n",
        "\n",
        "if sofia>=18 and sofia <=30:\n",
        "  print(\"Sofia puede entrar a la discoteca, porque es mayor de edad y joven\")\n",
        "  print(sofia>=18 and sofia <=30)\n",
        "else: \n",
        "  print(\"Sofia no puede entrar a la discoteca, porque es menor de edad o muy vieja\")\n",
        "  print(sofia>=18 and sofia <=30)"
      ],
      "execution_count": 170,
      "outputs": [
        {
          "output_type": "stream",
          "text": [
            "Ana no puede entrar a la discoteca, porque es menor de edad o muy vieja\n",
            "False\n",
            "Sofia puede entrar a la discoteca, porque es mayor de edad y joven\n",
            "True\n"
          ],
          "name": "stdout"
        }
      ]
    },
    {
      "cell_type": "markdown",
      "metadata": {
        "id": "U_1eLqTH1L2l"
      },
      "source": [
        "#Variables Numericas\n",
        "\n",
        "Las variables numericas pueden ser enteras o flotantes es decir si son enteras no tienen parte decimal, y si son flotantes si tienen parte decimal. la operacion de una variable entera y una flotante por lo regular da un valor flotante. Para que los valores sean enteros ambas variables deben ser enteras o en el caso especial de la division debe ser operada la division entera // \n",
        "\n",
        "Para imprimir un entero se utiliza **%d**, para un flotante **%f**, de la forma tradicional, sinembargo si se utiliza la funcion **.format(variable)** el programa que tipo de variable es y la imprime en su formato correcto. \n",
        "\n",
        "La notacion cientifica esta dada por la base (entero o flotante) seguida de la letra **e** y a continuacion el exponente (entero) de una **10e3** que representa $10 \\times 10^{3}$, entonces **1.55e-2** es $1.55 \\times 10^{-2}$ "
      ]
    },
    {
      "cell_type": "code",
      "metadata": {
        "colab": {
          "base_uri": "https://localhost:8080/"
        },
        "id": "w47FwHB91y-8",
        "outputId": "959a03d3-a82c-4608-e000-dff516c5e1ea"
      },
      "source": [
        "a = 2\n",
        "b = 3\n",
        "c = 1.5\n",
        "d = 1.2e-1                                                                      #    1.2e-1 = 0.12\n",
        "print(\"la suma de a = %d y b = %d, da : %d\"%(a,b,a+b))\n",
        "print(\"la suma de a = %d y c = %f, da : %f\"%(a,c,a+c))\n",
        "print(\"la suma de c = %f y d = %f, da : %f\"%(c,d,c+d))\n",
        "print(\"la division de a = %d y b = %d, da a/b = %f\"%(a,b,a/b))\n",
        "print(\"la division entera de a = %d y b = %d, da a//b = %d\"%(a,b,a//b))\n",
        "print(\"\\n\\n\")\n",
        "print(\"la suma de a = %d y b = %d, da : %d\"%(a,b,a+b))\n",
        "print(\"la suma de a = %d y c = %1.2f, da : %1.2f\"%(a,c,a+c))\n",
        "print(\"la suma de c = %1.2f y d = %1.2f, da : %1.2f\"%(c,d,c+d))\n",
        "print(\"la division de a = %d y b = %d, da a/b = %1.2f\"%(a,b,a/b))\n",
        "print(\"la division entera de a = %d y b = %d, da a//b = %d\"%(a,b,a//b))\n",
        "print(\"\\n\\n\")\n",
        "print(\"la suma de a = {} y b = {}, da : {}\".format(a,b,a+b))\n",
        "print(\"la suma de a = {} y c = {}, da : {}\".format(a,c,a+c))\n",
        "print(\"la suma de c = {:1.8f} y d = {}, da : {}\".format(c,d,c+d))\n",
        "print(\"la division de a = {} y b = {}, da a/b = {}\".format(a,b,a/b))\n",
        "print(\"la division entera de a = {} y b = {}, da a//b = {}\".format(a,b,a//b))\n",
        "print(\"\\n\\n\")\n",
        "print(\"la suma de a = {} y b = {}, da : {}\".format(a,b,a+b))\n",
        "print(\"la suma de a = {} y c = {}, da : {}\".format(a,c,a+c))\n",
        "print(\"la suma de c = {:1.2f} y d = {}, da : {}\".format(c,d,c+d))\n",
        "print(\"la division de a = {} y b = {}, da a/b = {:1.2f}\".format(a,b,a/b))\n",
        "print(\"la division entera de a = {} y b = {}, da a//b = {}\".format(a,b,a//b))"
      ],
      "execution_count": 177,
      "outputs": [
        {
          "output_type": "stream",
          "text": [
            "la suma de a = 2 y b = 3, da : 5\n",
            "la suma de a = 2 y c = 1.500000, da : 3.500000\n",
            "la suma de c = 1.500000 y d = 0.120000, da : 1.620000\n",
            "la division de a = 2 y b = 3, da a/b = 0.666667\n",
            "la division entera de a = 2 y b = 3, da a//b = 0\n",
            "\n",
            "\n",
            "\n",
            "la suma de a = 2 y b = 3, da : 5\n",
            "la suma de a = 2 y c = 1.50, da : 3.50\n",
            "la suma de c = 1.50 y d = 0.12, da : 1.62\n",
            "la division de a = 2 y b = 3, da a/b = 0.67\n",
            "la division entera de a = 2 y b = 3, da a//b = 0\n",
            "\n",
            "\n",
            "\n",
            "la suma de a = 2 y b = 3, da : 5\n",
            "la suma de a = 2 y c = 1.5, da : 3.5\n",
            "la suma de c = 1.50000000 y d = 0.12, da : 1.62\n",
            "la division de a = 2 y b = 3, da a/b = 0.6666666666666666\n",
            "la division entera de a = 2 y b = 3, da a//b = 0\n",
            "\n",
            "\n",
            "\n",
            "la suma de a = 2 y b = 3, da : 5\n",
            "la suma de a = 2 y c = 1.5, da : 3.5\n",
            "la suma de c = 1.50 y d = 0.12, da : 1.62\n",
            "la division de a = 2 y b = 3, da a/b = 0.67\n",
            "la division entera de a = 2 y b = 3, da a//b = 0\n"
          ],
          "name": "stdout"
        }
      ]
    },
    {
      "cell_type": "markdown",
      "metadata": {
        "id": "f-WszpQn4wru"
      },
      "source": [
        "# Caracteres y cadenas de carecteres\n",
        "\n",
        "Los caracteres, y las cadenas de caracteres, son basicamene valores alfanumericos, y las cadenas son arreglos de valores alfanumericos. para imprimirlos se utiliza para la los caracteres **%c** mientras para las cadenas **%s**  la s de string o cadena en ingles\n",
        "\n",
        "1.   Elemento de la lista\n",
        "2.   Elemento de la lista\n",
        "\n"
      ]
    },
    {
      "cell_type": "code",
      "metadata": {
        "colab": {
          "base_uri": "https://localhost:8080/"
        },
        "id": "LEAUJWqJ1_uC",
        "outputId": "267b5e8e-42dc-4d77-f540-0e85877e769b"
      },
      "source": [
        "var1 = 'c'\n",
        "var2 = 'el cañon de chicamocha'\n",
        "var3 = ' es chevere'\n",
        "\n",
        "print(\"el caracter de la variable var1 es: %c\"%var1)\n",
        "print(\"la cadena de la variable var2 es: %s\"%var2)\n",
        "print(\"podemos concatenar la cadena de la variable var2 con la cadena de la variable var 3 asi: %s\"%(var2 + var3))\n",
        "print(\"podemos imprimir 5 veces la cadena la variable var 3 asi: %s\"%(5*var3))"
      ],
      "execution_count": 65,
      "outputs": [
        {
          "output_type": "stream",
          "text": [
            "el caracter de la variable var1 es: c\n",
            "la cadena de la variable var2 es: el cañon de chicamocha\n",
            "podemos concatenar la cadena de la variable var2 con la cadena de la variable var 3 asi: el cañon de chicamocha es chevere\n",
            "podemos imprimir 5 veces la cadena la variable var 3 asi:  es chevere es chevere es chevere es chevere es chevere\n"
          ],
          "name": "stdout"
        }
      ]
    },
    {
      "cell_type": "markdown",
      "metadata": {
        "id": "rGL09yy4-FwT"
      },
      "source": [
        "# Bases numericas Decimal, Octal, Hexagesimal, Binario.\n",
        "\n",
        "Los numeros decimales se escriben tal cual, pero los numero octales **0oXX**, los numero hexagesimales **0hXX**, y los binarios **0bXX**\n",
        "\n",
        "Los numeros decimales se expresan en potencias de a 10\n",
        "$[1\\times10^n 1\\times10^{n-1} \\dots 1\\times10^{3} 1\\times10^{2} 1\\times10^{1} 1\\times10^{0}, 1\\times10^{-1} 1\\times10^{-2} 1\\times10^{-3} \\dots 1\\times10^{-n} ]$\n",
        "\n",
        "Los numeros hexagesimales en pontencias de a 16 llendo la numeracion desde 0 hasta 9, A, B, C, D, E, F donde F es 15, 16 seria 0x10\n",
        "$[1\\times16^n 1\\times16^{n-1} \\dots 1\\times16^{3} 1\\times16^{2} 1\\times16^{1} 1\\times16^{0}, 1\\times16^{-1} 1\\times16^{-2} 1\\times16^{-3} \\dots 1\\times16^{-n} ]$\n",
        "\n",
        "Los numeros octales estan representados en potencias de a 8, por lo tanto van de 0o1 a 0o7, asi que el ocho seria 0o10\n",
        "$[1\\times8^n 1\\times8^{n-1} \\dots 1\\times8^{3} 1\\times8^{2} 1\\times8^{1} 1\\times8^{0}, 1\\times8^{-1} 1\\times8^{-2} 1\\times8^{-3} \\dots 1\\times8^{-n} ]$\n",
        "\n",
        "Los numeros binarios tienen solo valores de 0 o 1, por lo tanto se agrupan en bytes de a 8 bits, 16 bits, 32 bits y ultimamente 64,128 y 256 bits.\n",
        "\n",
        "$[1\\times2^n 1\\times2^{n-1} \\dots 1\\times2^{3} 1\\times2^{2} 1\\times2^{1} 1\\times2^{0}, 1\\times2^{-1} 1\\times2^{-2} 1\\times2^{-3} \\dots 1\\times2^{-n} ]$\n",
        "\n",
        "\n",
        "10 = 0x0A = 0o12 = 0b1010\n",
        "\n",
        "253 = 0xFD = 0o375 = 0b11111101\n",
        "\n",
        "0o375 = 3x8^2 + 7x8^1 + 5x8^0 = 192 + 56 + 5 = 253\n",
        "\n",
        "0xFD = Fx16^1 + Dx16^0 = 240 + 13 = 253\n",
        "\n",
        "0b11111101 = 1x2^7 + 1x2^6 + 1x2^5 + 1x2^4 + 1x2^3 + 1x2^2+ 0x2^1 + 1x2^0\n",
        "\n",
        "0b11111101 = 128 + 64 + 32 + 16 + 8 + 4 + 0 + 1 = 253"
      ]
    },
    {
      "cell_type": "code",
      "metadata": {
        "colab": {
          "base_uri": "https://localhost:8080/"
        },
        "id": "chOgRIqN2qCg",
        "outputId": "e57ed982-b8be-438d-d263-a1abe184edf9"
      },
      "source": [
        "var1 = 10\n",
        "var2 = 0o10\n",
        "var3 = 0x1AF\n",
        "var4 = 0b10001001\n",
        "\n",
        "print(\"el valor decimal     de var1: %d\"%var1)\n",
        "print(\"el valor octal       de var1: \",oct(var1))\n",
        "print(\"el valor hexagesimal de var1: \",hex(var1))\n",
        "print(\"el valor binario     de var1: \",bin(var1))\n",
        "print(\"\\n\\n\")\n",
        "print(\"el valor decimal     de var2: %d\"%var2)\n",
        "print(\"el valor octal       de var2: \",oct(var2))\n",
        "print(\"el valor hexagesimal de var2: \",hex(var2))\n",
        "print(\"el valor binario     de var2: \",bin(var2))\n",
        "print(\"\\n\\n\")\n",
        "print(\"el valor decimal     de var3: %d\"%var3)\n",
        "print(\"el valor octal       de var3: \",oct(var3))\n",
        "print(\"el valor hexagesimal de var3: \",hex(var3))\n",
        "print(\"el valor binario     de var2: \",bin(var3))\n",
        "print(\"\\n\\n\")\n",
        "print(\"el valor decimal     de var4: %d\"%var4)\n",
        "print(\"el valor octal       de var4: \",oct(var4))\n",
        "print(\"el valor hexagesimal de var4: \",hex(var4))\n",
        "print(\"el valor binario     de var4: \",bin(var4))"
      ],
      "execution_count": 5,
      "outputs": [
        {
          "output_type": "stream",
          "text": [
            "el valor decimal     de var1: 10\n",
            "el valor octal       de var1:  0o12\n",
            "el valor hexagesimal de var1:  0xa\n",
            "el valor binario     de var1:  0b1010\n",
            "\n",
            "\n",
            "\n",
            "el valor decimal     de var2: 8\n",
            "el valor octal       de var2:  0o10\n",
            "el valor hexagesimal de var2:  0x8\n",
            "el valor binario     de var2:  0b1000\n",
            "\n",
            "\n",
            "\n",
            "el valor decimal     de var3: 431\n",
            "el valor octal       de var3:  0o657\n",
            "el valor hexagesimal de var3:  0x1af\n",
            "el valor binario     de var2:  0b110101111\n",
            "\n",
            "\n",
            "\n",
            "el valor decimal     de var4: 137\n",
            "el valor octal       de var4:  0o211\n",
            "el valor hexagesimal de var4:  0x89\n",
            "el valor binario     de var4:  0b10001001\n"
          ],
          "name": "stdout"
        }
      ]
    },
    {
      "cell_type": "markdown",
      "metadata": {
        "id": "_tH5Q70x_QOK"
      },
      "source": [
        "# Comentarios\n",
        "\n",
        "En Python los comentarios se pueden hacer en una sola linea usando el caracter **#** o en multiples lineas utilizando tres comillas simples o dobles $\"\"\"___  \"\"\"$ o $''' ___ '''$ como se muestra en el programa a continuacion:"
      ]
    },
    {
      "cell_type": "code",
      "metadata": {
        "colab": {
          "base_uri": "https://localhost:8080/",
          "height": 297
        },
        "id": "ygTM3P3n-30P",
        "outputId": "15c33e4a-f50c-4ce2-e5cb-195a97a63b67"
      },
      "source": [
        "import matplotlib as plt                                                          # Esta linea carga una libreria para graficas en el plano xy\n",
        "import numpy as np                                                                # Esta lina es para cargar la libreria numerica numpy \n",
        "\"\"\" esta linea sirve para hacer comentarios multilinea;\n",
        "en este caso se hizo un programa que grafica x(t)\"\"\"\n",
        "\n",
        "''' aqui empieza el programa \n",
        "y este comentario es multilinea tambien '''\n",
        "np.\n",
        "t = np.arange(-10,10,0.1)                                                         # crea un arrego de numeros de -10 a 10 con pasos de a 0.1\n",
        "x = t**2                                                                          # Evalua los valores de t al cuadrado\n",
        "plt.pyplot.plot(t,x)                                                              # grafica x(t) con t en el eje de las x y x(t) en el eje de las y\n",
        "plt.pyplot.xlabel('t en segundos (s)')                                            # Coloca un texto al eje x    \n",
        "plt.pyplot.ylabel('funcion $x=t^2$')                                              # Coloca un texto al eje y\n",
        "plt.pyplot.title('Grafica de una funcion $x(t)$')                                 # Coloca un titulo a la grafica\n",
        "plt.pyplot.show()                                                                 # Esta funcion es recomendable usarla siempre para acabar una gafica."
      ],
      "execution_count": 24,
      "outputs": [
        {
          "output_type": "display_data",
          "data": {
            "image/png": "[encoded data removed]",
            "text/plain": [
              "<Figure size 432x288 with 1 Axes>"
            ]
          },
          "metadata": {
            "tags": [],
            "needs_background": "light"
          }
        }
      ]
    },
    {
      "cell_type": "code",
      "metadata": {
        "colab": {
          "base_uri": "https://localhost:8080/"
        },
        "id": "petrEPusZSWi",
        "outputId": "bd6cf6f2-9953-4b4c-9e18-2f62795ca5a7"
      },
      "source": [
        "import numpy as np   \n",
        "help(np.argmin)"
      ],
      "execution_count": 143,
      "outputs": [
        {
          "output_type": "stream",
          "text": [
            "Help on function argmin in module numpy:\n",
            "\n",
            "argmin(a, axis=None, out=None)\n",
            "    Returns the indices of the minimum values along an axis.\n",
            "    \n",
            "    Parameters\n",
            "    ----------\n",
            "    a : array_like\n",
            "        Input array.\n",
            "    axis : int, optional\n",
            "        By default, the index is into the flattened array, otherwise\n",
            "        along the specified axis.\n",
            "    out : array, optional\n",
            "        If provided, the result will be inserted into this array. It should\n",
            "        be of the appropriate shape and dtype.\n",
            "    \n",
            "    Returns\n",
            "    -------\n",
            "    index_array : ndarray of ints\n",
            "        Array of indices into the array. It has the same shape as `a.shape`\n",
            "        with the dimension along `axis` removed.\n",
            "    \n",
            "    See Also\n",
            "    --------\n",
            "    ndarray.argmin, argmax\n",
            "    amin : The minimum value along a given axis.\n",
            "    unravel_index : Convert a flat index into an index tuple.\n",
            "    take_along_axis : Apply ``np.expand_dims(index_array, axis)`` \n",
            "                      from argmin to an array as if by calling min.\n",
            "    \n",
            "    Notes\n",
            "    -----\n",
            "    In case of multiple occurrences of the minimum values, the indices\n",
            "    corresponding to the first occurrence are returned.\n",
            "    \n",
            "    Examples\n",
            "    --------\n",
            "    >>> a = np.arange(6).reshape(2,3) + 10\n",
            "    >>> a\n",
            "    array([[10, 11, 12],\n",
            "           [13, 14, 15]])\n",
            "    >>> np.argmin(a)\n",
            "    0\n",
            "    >>> np.argmin(a, axis=0)\n",
            "    array([0, 0, 0])\n",
            "    >>> np.argmin(a, axis=1)\n",
            "    array([0, 0])\n",
            "    \n",
            "    Indices of the minimum elements of a N-dimensional array:\n",
            "    \n",
            "    >>> ind = np.unravel_index(np.argmin(a, axis=None), a.shape)\n",
            "    >>> ind\n",
            "    (0, 0)\n",
            "    >>> a[ind]\n",
            "    10\n",
            "    \n",
            "    >>> b = np.arange(6) + 10\n",
            "    >>> b[4] = 10\n",
            "    >>> b\n",
            "    array([10, 11, 12, 13, 10, 15])\n",
            "    >>> np.argmin(b)  # Only the first occurrence is returned.\n",
            "    0\n",
            "    \n",
            "    >>> x = np.array([[4,2,3], [1,0,3]])\n",
            "    >>> index_array = np.argmin(x, axis=-1)\n",
            "    >>> # Same as np.min(x, axis=-1, keepdims=True)\n",
            "    >>> np.take_along_axis(x, np.expand_dims(index_array, axis=-1), axis=-1)\n",
            "    array([[2],\n",
            "           [0]])\n",
            "    >>> # Same as np.max(x, axis=-1)\n",
            "    >>> np.take_along_axis(x, np.expand_dims(index_array, axis=-1), axis=-1).squeeze(axis=-1)\n",
            "    array([2, 0])\n",
            "\n"
          ],
          "name": "stdout"
        }
      ]
    },
    {
      "cell_type": "markdown",
      "metadata": {
        "id": "itfOxmD2YZOB"
      },
      "source": [
        "# La funcion de python print()\n",
        "\n",
        "La funcion print es bastante util basicamente su funcion es imprimir en pantalla, textos, variables, tuplas, etc.  entonces la funcion print sirve para  mostrar informacion en pantalla, hay tres formas basicas de llamar la fucion print.\n",
        "En la primer forma debemos decirle a la funcion print que tipo de variables va a recibir y en los flotantes cuandos digitos de la base y de los decimales quiero mostrar, **%d** se usa para enteros, **%f** se usa para flotantes aunque en este caso el compilador escoje cuantos digitos muestra, **%1.2d** se usa para flotantes en este caso el **1.2** significa que muestre un digito en la base, y dos digitos decimales, **%c** se utiliza para imprimir un unico caracter, mientras que **%s** se utiliza para imprimir cadenas de caracteres.\n",
        "\n",
        "En la segunda forma utilizamos la funcion **.format()** la cual asocia los **{}** con las variables que hay dentro de los corchetes en el orden tal cual se escriben.\n",
        "\n",
        "Y en la tercera forma convertimos todo a texto con la funcion (string) **str()** y se va concatenando el texto, como puede ver las variables text1 y text2 no hay nesecidad de convertirlas ya que estas son cadenas de caracteres desde su declaracion."
      ]
    },
    {
      "cell_type": "code",
      "metadata": {
        "colab": {
          "base_uri": "https://localhost:8080/"
        },
        "id": "h3a_kEfbAiRa",
        "outputId": "55fd5031-ceb5-4955-fd57-3b20cc582a89"
      },
      "source": [
        "a = 3\n",
        "b = 2\n",
        "c = 1.5\n",
        "d = 2.53\n",
        "text1 = \" Hola mundo! \"\n",
        "text2 = \" Python es un lenguaje de alto nivel, multiplataforma y interpretado \"\n",
        "\n",
        "print(\" podemos imprimir variables numericas como a = %d, b = %d, c = %1.1f, d = %1.2f, text1 = %s, text2 = %s\"%(a,b,c,d,text1,text2))\n",
        "print(\" podemos imprimir variables numericas como a = {}, b = {}, c = {}, d = {}, text1 = {}, text2 = {}\".format(a,b,c,d,text1,text2))\n",
        "print(\" podemos imprimir variables numericas como a = \"+str(a)+\", b = \"+str(b)+\", c = \"+str(c)+\", d = \"+str(d)+\", text1 = \"+text1+\", text2 = \"+text2)\n"
      ],
      "execution_count": 49,
      "outputs": [
        {
          "output_type": "stream",
          "text": [
            " podemos imprimir variables numericas como a = 3, b = 2, c = 1.5, d = 2.53, text1 =  Hola mundo! , text2 =  Python es un lenguaje de alto nivel, multiplataforma y interpretado \n",
            " podemos imprimir variables numericas como a = 3, b = 2, c = 1.5, d = 2.53, text1 =  Hola mundo! , text2 =  Python es un lenguaje de alto nivel, multiplataforma y interpretado \n",
            " podemos imprimir variables numericas como a = 3, b = 2, c = 1.5, d = 2.53, text1 =  Hola mundo! , text2 =  Python es un lenguaje de alto nivel, multiplataforma y interpretado \n"
          ],
          "name": "stdout"
        }
      ]
    },
    {
      "cell_type": "markdown",
      "metadata": {
        "id": "kMzwaOiudz25"
      },
      "source": [
        "# La Funcion input()\n",
        "\n",
        "La funcion input() se utiliza con el objetivo de introduccion valores por teclado a una variable que reciba estos valores, si los valores recibidos son enteros o flotantes deben usarse las funciones de conversion de datos **int()** para los enteros, y **float()** para los flotantes."
      ]
    },
    {
      "cell_type": "code",
      "metadata": {
        "colab": {
          "base_uri": "https://localhost:8080/"
        },
        "id": "7o-69MvWZmEM",
        "outputId": "24eb6835-430c-43e3-d5ee-d319c0d17131"
      },
      "source": [
        "dolarTMR = 3649.9\n",
        "dolarVENTA = 3595.0\n",
        "dolarCompra = 3550.0\n",
        "\n",
        "cash = float(input('Digite el valor en dolares que desea o posee CASH = '))\n",
        "print(\"\\n\\n\")\n",
        "print(\"Segun la tasa representativa del mercado el 11 de noviembre del 2020 ud posee en pesos el equivalente a = {}\".format(cash*dolarTMR))\n",
        "print(\"\\n\\n\")\n",
        "print(\"Si ud desea comprar dolares debe pagar en pesos = {}\".format(cash*dolarVENTA))\n",
        "print(\"\\n\\n\")\n",
        "print(\"Si ud desea vender dolares se los pagamos a un valor en pesos de = {}\".format(cash*dolarCompra))"
      ],
      "execution_count": 55,
      "outputs": [
        {
          "output_type": "stream",
          "text": [
            "Digite el valor en dolares que desea o posee CASH = 12\n",
            "\n",
            "\n",
            "\n",
            "Segun la tasa representativa del mercado el 11 de noviembre del 2020 ud posee en pesos el equivalente a = 43798.8\n",
            "\n",
            "\n",
            "\n",
            "Si ud desea comprar dolares debe pagar en pesos = 43140.0\n",
            "\n",
            "\n",
            "\n",
            "Si ud desea vender dolares se los pagamos a un valor en pesos de = 42600.0\n"
          ],
          "name": "stdout"
        }
      ]
    },
    {
      "cell_type": "code",
      "metadata": {
        "colab": {
          "base_uri": "https://localhost:8080/"
        },
        "id": "D8k_4efcf1m-",
        "outputId": "9f172188-ba55-42a1-aad3-9ceef30d2039"
      },
      "source": [
        "id=0\n",
        "while id!=1:\n",
        "  val = input(\"Digite \\'y\\' para si o \\'n\\' para no: \")\n",
        "  if val=='y':\n",
        "    print(\"Ud. dijo si\")\n",
        "    id=1\n",
        "  elif val=='n':\n",
        "    print(\"Ud. dijo no\")\n",
        "    id=1\n",
        "  else:\n",
        "    print(\"Ud. presiono una tecla difente de \\'y\\' o \\'n\\'\")\n",
        "    print(\"intente de nuevo\")\n",
        "    id=0"
      ],
      "execution_count": 71,
      "outputs": [
        {
          "output_type": "stream",
          "text": [
            "Digite 'y' para si o 'n' para no: q\n",
            "Ud. presiono una tecla difente de 'y' o 'n'\n",
            "intente de nuevo\n",
            "Digite 'y' para si o 'n' para no: w\n",
            "Ud. presiono una tecla difente de 'y' o 'n'\n",
            "intente de nuevo\n",
            "Digite 'y' para si o 'n' para no: N\n",
            "Ud. presiono una tecla difente de 'y' o 'n'\n",
            "intente de nuevo\n",
            "Digite 'y' para si o 'n' para no: y\n",
            "Ud. dijo si\n"
          ],
          "name": "stdout"
        }
      ]
    },
    {
      "cell_type": "markdown",
      "metadata": {
        "id": "Rpl7dPXekQtk"
      },
      "source": [
        "# Variables mixtas \n",
        "\n",
        "En python no existen los arreglos propiamente dichos, existen las listas, las tuplas y los diccionarios. \n",
        "\n",
        "* La diferencia de las listas con los arreglos es que en un arreglo solo puede haber un solo tipo de datos, mientras que en las listas puede haber diferentes tipos de datos como por ejemplo, caracteres, enteros flotantes y cadenas de caracteres. Sin embargo las listas se pueden modificar con ayuda de algunas funciones. las listas se crean con **[ ]**.\n",
        "\n",
        "* Las Tuplas solo pueden ser modificadas cuando son creadas, una vez creadas son inmodificables, sinembargo la misma logica de indexado que se usa en una lista fuciona. las tuplas siempre se crear con **( )** separando cada dato con comas, sin embargo un tipo de tupla llamada tupla unitaria debe crearse de manera especial a=(180,).\n",
        "\n",
        "* Los dicionarios son tipos de datos que tienen dos valores caracteristicos el primero es la palabra clave, y el segundo el dato al cual queremos acceder, para acceder a los datos debemos saber la palabra clave. Sin embargo no es muy dificil encontrarla, los diccionarios tienen la siguiente sintaxis dict = {'keyword0':'dato0','keyword1':dato1, 'keyword2':[0,1,3], 'keyword3':[30,'Mayo',2019]}."
      ]
    },
    {
      "cell_type": "markdown",
      "metadata": {
        "id": "QhjcmXXgDad9"
      },
      "source": [
        "# Ejemplo con lista"
      ]
    },
    {
      "cell_type": "code",
      "metadata": {
        "colab": {
          "base_uri": "https://localhost:8080/"
        },
        "id": "mqzRJPwIhii-",
        "outputId": "4bec97c8-86c4-4bdc-a4f5-a2292a23e6fa"
      },
      "source": [
        "Ferrari2014=[\"Fernando Alonso\", \"Kimi Raikkonen\"]\n",
        "print (Ferrari2014)\n",
        "# Ejemplo de otra lista. Pilotos oficiales de Ferrari en 2013.\n",
        "Ferrari2013=[\"Fernando Alonso\", \"Felipe Massa\"]\n",
        "print (Ferrari2013)\n",
        "print(Ferrari2014[1])"
      ],
      "execution_count": 72,
      "outputs": [
        {
          "output_type": "stream",
          "text": [
            "['Fernando Alonso', 'Kimi Raikkonen']\n",
            "['Fernando Alonso', 'Felipe Massa']\n",
            "Kimi Raikkonen\n"
          ],
          "name": "stdout"
        }
      ]
    },
    {
      "cell_type": "code",
      "metadata": {
        "colab": {
          "base_uri": "https://localhost:8080/"
        },
        "id": "6SdBPltL-CwE",
        "outputId": "c60ca0f0-03cd-4b65-ce5e-746987468412"
      },
      "source": [
        "# pop: Extraemos a Kimi (que está en la posición número 1) de la lista. Alonso está en la posición 0.\n",
        "Ferrari2014.pop(1)\n",
        "print(Ferrari2014)"
      ],
      "execution_count": 73,
      "outputs": [
        {
          "output_type": "stream",
          "text": [
            "['Fernando Alonso']\n"
          ],
          "name": "stdout"
        }
      ]
    },
    {
      "cell_type": "code",
      "metadata": {
        "colab": {
          "base_uri": "https://localhost:8080/"
        },
        "id": "MIqIgX2D-FTo",
        "outputId": "2f8b828e-64ce-4ce9-9b94-476a48b57efd"
      },
      "source": [
        "# append: Añadimos a Kimi al final de la lista\n",
        "Ferrari2014.append(\"Kimi Raikkonen\")\n",
        "print (Ferrari2014)"
      ],
      "execution_count": 74,
      "outputs": [
        {
          "output_type": "stream",
          "text": [
            "['Fernando Alonso', 'Kimi Raikkonen']\n"
          ],
          "name": "stdout"
        }
      ]
    },
    {
      "cell_type": "code",
      "metadata": {
        "colab": {
          "base_uri": "https://localhost:8080/"
        },
        "id": "0Qkqor1m-HzO",
        "outputId": "378fb856-f3d6-4dd1-c904-b8bfeb830867"
      },
      "source": [
        "# del:Eliminamos el elemento de la primera posición de la lista (Fernando)\n",
        "del(Ferrari2014[0])\n",
        "print (Ferrari2014)"
      ],
      "execution_count": 75,
      "outputs": [
        {
          "output_type": "stream",
          "text": [
            "['Kimi Raikkonen']\n"
          ],
          "name": "stdout"
        }
      ]
    },
    {
      "cell_type": "code",
      "metadata": {
        "colab": {
          "base_uri": "https://localhost:8080/"
        },
        "id": "Jvrczhul-L5V",
        "outputId": "3466c7c1-5001-4870-cb28-69facf90fcd8"
      },
      "source": [
        "# insert: Añadimos a Fernando en la primera posición\n",
        "Ferrari2014.insert(0, \"Fernando Alonso\")\n",
        "print (Ferrari2014)"
      ],
      "execution_count": 76,
      "outputs": [
        {
          "output_type": "stream",
          "text": [
            "['Fernando Alonso', 'Kimi Raikkonen']\n"
          ],
          "name": "stdout"
        }
      ]
    },
    {
      "cell_type": "code",
      "metadata": {
        "colab": {
          "base_uri": "https://localhost:8080/"
        },
        "id": "GD6-YyOw-OH6",
        "outputId": "172d3738-b368-4fc1-afde-103010f2c725"
      },
      "source": [
        "# extend: Juntamos los pilotos del 2013 y los del 2014. Fernando estará repetido.\n",
        "Ferrari2014.extend(Ferrari2013)\n",
        "print (Ferrari2014)"
      ],
      "execution_count": 77,
      "outputs": [
        {
          "output_type": "stream",
          "text": [
            "['Fernando Alonso', 'Kimi Raikkonen', 'Fernando Alonso', 'Felipe Massa']\n"
          ],
          "name": "stdout"
        }
      ]
    },
    {
      "cell_type": "code",
      "metadata": {
        "colab": {
          "base_uri": "https://localhost:8080/"
        },
        "id": "3nNWYdZo-P-N",
        "outputId": "295ac32a-0420-4ce6-83ca-f991439ff3ca"
      },
      "source": [
        "#remove: Borramos la primera vez que aparece Fernando Alonso\n",
        "Ferrari2014.remove(\"Fernando Alonso\")\n",
        "print (Ferrari2014)"
      ],
      "execution_count": 78,
      "outputs": [
        {
          "output_type": "stream",
          "text": [
            "['Kimi Raikkonen', 'Fernando Alonso', 'Felipe Massa']\n"
          ],
          "name": "stdout"
        }
      ]
    },
    {
      "cell_type": "markdown",
      "metadata": {
        "id": "I8CQNPJ6DgTN"
      },
      "source": [
        "# Ejemplos con tupla"
      ]
    },
    {
      "cell_type": "code",
      "metadata": {
        "colab": {
          "base_uri": "https://localhost:8080/"
        },
        "id": "f8UXrtzH-enD",
        "outputId": "36cfc942-bef8-4819-ae10-14ef69b1c8a7"
      },
      "source": [
        "tupla1 = (15,'mayo',1981)\n",
        "print(tupla1[0])\n",
        "print(tupla1[1])\n",
        "print(tupla1[2])"
      ],
      "execution_count": 83,
      "outputs": [
        {
          "output_type": "stream",
          "text": [
            "15\n",
            "mayo\n",
            "1981\n"
          ],
          "name": "stdout"
        }
      ]
    },
    {
      "cell_type": "code",
      "metadata": {
        "colab": {
          "base_uri": "https://localhost:8080/"
        },
        "id": "OHhMBVevDsVL",
        "outputId": "5a1f2255-7558-46d2-eab2-89090011fc00"
      },
      "source": [
        "tupla2 = ('Julian', tupla1, 'Andrea',(30,'Agosto',1991))\n",
        "print(tupla2[0])\n",
        "print(tupla2[1])\n",
        "print(tupla2[1][0])\n",
        "print(tupla2[1][1])\n",
        "print(tupla2[1][2])\n",
        "print(tupla2[2])\n",
        "print(tupla2[3])\n",
        "print(tupla2[3][0])\n",
        "print(tupla2[3][1])\n",
        "print(tupla2[3][2])"
      ],
      "execution_count": 91,
      "outputs": [
        {
          "output_type": "stream",
          "text": [
            "Julian\n",
            "(15, 'mayo', 1981)\n",
            "15\n",
            "mayo\n",
            "1981\n",
            "Andrea\n",
            "(30, 'Agosto', 1991)\n",
            "30\n",
            "Agosto\n",
            "1991\n"
          ],
          "name": "stdout"
        }
      ]
    },
    {
      "cell_type": "code",
      "metadata": {
        "id": "7Wp0OYrJEMcz"
      },
      "source": [
        "tupla3 = tupla1, tupla2"
      ],
      "execution_count": 92,
      "outputs": []
    },
    {
      "cell_type": "code",
      "metadata": {
        "colab": {
          "base_uri": "https://localhost:8080/"
        },
        "id": "yAxYX1USEtti",
        "outputId": "60253923-9ab5-4d9a-a6d1-8af0519d461c"
      },
      "source": [
        "print(tupla3)"
      ],
      "execution_count": 93,
      "outputs": [
        {
          "output_type": "stream",
          "text": [
            "((15, 'mayo', 1981), ('Julian', (15, 'mayo', 1981), 'Andrea', (30, 'Agosto', 1991)))\n"
          ],
          "name": "stdout"
        }
      ]
    },
    {
      "cell_type": "code",
      "metadata": {
        "colab": {
          "base_uri": "https://localhost:8080/"
        },
        "id": "-in93BAkEv9D",
        "outputId": "b3eb9fd2-0084-4942-b09a-ed6099d0e33a"
      },
      "source": [
        "len(tupla3)"
      ],
      "execution_count": 94,
      "outputs": [
        {
          "output_type": "execute_result",
          "data": {
            "text/plain": [
              "2"
            ]
          },
          "metadata": {
            "tags": []
          },
          "execution_count": 94
        }
      ]
    },
    {
      "cell_type": "code",
      "metadata": {
        "colab": {
          "base_uri": "https://localhost:8080/"
        },
        "id": "AsCxQYf7E0Pc",
        "outputId": "16da32f7-5133-4d54-aafa-4c08697e7bfa"
      },
      "source": [
        "len(tupla3[0])"
      ],
      "execution_count": 95,
      "outputs": [
        {
          "output_type": "execute_result",
          "data": {
            "text/plain": [
              "3"
            ]
          },
          "metadata": {
            "tags": []
          },
          "execution_count": 95
        }
      ]
    },
    {
      "cell_type": "code",
      "metadata": {
        "colab": {
          "base_uri": "https://localhost:8080/"
        },
        "id": "8Xsc4311E5N-",
        "outputId": "70b0bae0-c066-4141-a9ea-91330ad75da3"
      },
      "source": [
        "len(tupla3[1])"
      ],
      "execution_count": 97,
      "outputs": [
        {
          "output_type": "execute_result",
          "data": {
            "text/plain": [
              "4"
            ]
          },
          "metadata": {
            "tags": []
          },
          "execution_count": 97
        }
      ]
    },
    {
      "cell_type": "code",
      "metadata": {
        "colab": {
          "base_uri": "https://localhost:8080/"
        },
        "id": "CN2Ho4dDE85_",
        "outputId": "688aa2f3-6582-4805-af9b-1dd3a9c73dd0"
      },
      "source": [
        "a=2\n",
        "b=3.0\n",
        "c='carro'\n",
        "d='moto'\n",
        "e='f'\n",
        "tupla4 = a,b,c,d,e\n",
        "print(tupla4)"
      ],
      "execution_count": 99,
      "outputs": [
        {
          "output_type": "stream",
          "text": [
            "(2, 3.0, 'carro', 'moto', 'f')\n"
          ],
          "name": "stdout"
        }
      ]
    },
    {
      "cell_type": "code",
      "metadata": {
        "colab": {
          "base_uri": "https://localhost:8080/"
        },
        "id": "hLwHwsprFYHt",
        "outputId": "55c6e665-7597-4618-9422-07c6ffaef3d0"
      },
      "source": [
        "type(tupla4)"
      ],
      "execution_count": 100,
      "outputs": [
        {
          "output_type": "execute_result",
          "data": {
            "text/plain": [
              "tuple"
            ]
          },
          "metadata": {
            "tags": []
          },
          "execution_count": 100
        }
      ]
    },
    {
      "cell_type": "code",
      "metadata": {
        "colab": {
          "base_uri": "https://localhost:8080/"
        },
        "id": "ofT0QXu2FekG",
        "outputId": "6850fc35-c787-4687-d713-2b4a95da49c8"
      },
      "source": [
        "a = (10)\n",
        "b= (10,)\n",
        "print(type(a))\n",
        "print(type(b))"
      ],
      "execution_count": 102,
      "outputs": [
        {
          "output_type": "stream",
          "text": [
            "<class 'int'>\n",
            "<class 'tuple'>\n"
          ],
          "name": "stdout"
        }
      ]
    },
    {
      "cell_type": "code",
      "metadata": {
        "colab": {
          "base_uri": "https://localhost:8080/"
        },
        "id": "V1hxl1C9FkuK",
        "outputId": "60b81d9c-a90b-4a0d-d4ba-88316a8c3194"
      },
      "source": [
        "print(a)\n",
        "print(b)"
      ],
      "execution_count": 104,
      "outputs": [
        {
          "output_type": "stream",
          "text": [
            "10\n",
            "(10,)\n"
          ],
          "name": "stdout"
        }
      ]
    },
    {
      "cell_type": "markdown",
      "metadata": {
        "id": "z-S-Ep4uF0mD"
      },
      "source": [
        "# Ejemplos con Diccionarios"
      ]
    },
    {
      "cell_type": "code",
      "metadata": {
        "colab": {
          "base_uri": "https://localhost:8080/"
        },
        "id": "eh32L0gtFsLe",
        "outputId": "ceb01852-191a-4574-90e7-5fe52e54a35d"
      },
      "source": [
        "dict1 = {'Nombre':'Julian', 'Apellidos':'Pelaez Restrepo','Cedula':16929198, 'Nacimiento':(15,'mayo',1981),'sexo':'hombre'}\n",
        "dict2 = {'Nombre':'Andrea Maria', 'Apellidos':'Rojas Bernal','Cedula':93161470, 'Nacimiento':(10,'octubre',1986),'sexo':'mujer'}\n",
        "dict3 = {'Alumno1':dict1,'Alumno2':dict2}\n",
        "print(len(dict1))\n",
        "print(dict1)\n",
        "print(dict1['Nombre'])\n",
        "print(dict1['Nacimiento'])\n",
        "print(dict1['Nacimiento'][0])\n",
        "print(dict1['Cedula'])\n",
        "print(\"el señor {} {} nacio el {} con sexo {} y esta identificado con la cedula {}\".format(dict1['Nombre'],dict1['Apellidos'],dict1['Nacimiento'],dict1['sexo'],dict1['Cedula']))\n",
        "print(\"la señora {} {} nacio el {} con sexo {} y esta identificada con la cedula {}\".format(dict2['Nombre'],dict2['Apellidos'],dict2['Nacimiento'],dict2['sexo'],dict2['Cedula']))\n",
        "print(dict3['Alumno1'])\n",
        "print(dict3['Alumno1']['Nacimiento'])\n",
        "print(dict3['Alumno1']['Nacimiento'][0])\n",
        "print(dict3['Alumno1']['Nacimiento'][1:3])\n",
        "print(\"el señor {} {} nacio el {} con sexo {} y esta identificado con la cedula {}\".format(dict3['Alumno1']['Nombre'],dict3['Alumno1']['Apellidos'],dict3['Alumno1']['Nacimiento'],dict3['Alumno1']['sexo'],dict3['Alumno1']['Cedula']))\n",
        "print(\"la señora {} {} nacio el {} con sexo {} y esta identificada con la cedula {}\".format(dict3['Alumno2']['Nombre'],dict3['Alumno2']['Apellidos'],dict3['Alumno2']['Nacimiento'],dict3['Alumno2']['sexo'],dict3['Alumno2']['Cedula']))"
      ],
      "execution_count": 119,
      "outputs": [
        {
          "output_type": "stream",
          "text": [
            "5\n",
            "{'Nombre': 'Julian', 'Apellidos': 'Pelaez Restrepo', 'Cedula': 16929198, 'Nacimiento': (15, 'mayo', 1981), 'sexo': 'hombre'}\n",
            "Julian\n",
            "(15, 'mayo', 1981)\n",
            "15\n",
            "16929198\n",
            "el señor Julian Pelaez Restrepo nacio el (15, 'mayo', 1981) con sexo hombre y esta identificado con la cedula 16929198\n",
            "la señora Andrea Maria Rojas Bernal nacio el (10, 'octubre', 1986) con sexo mujer y esta identificada con la cedula 93161470\n",
            "{'Nombre': 'Julian', 'Apellidos': 'Pelaez Restrepo', 'Cedula': 16929198, 'Nacimiento': (15, 'mayo', 1981), 'sexo': 'hombre'}\n",
            "(15, 'mayo', 1981)\n",
            "15\n",
            "('mayo', 1981)\n",
            "el señor Julian Pelaez Restrepo nacio el (15, 'mayo', 1981) con sexo hombre y esta identificado con la cedula 16929198\n",
            "la señora Andrea Maria Rojas Bernal nacio el (10, 'octubre', 1986) con sexo mujer y esta identificada con la cedula 93161470\n"
          ],
          "name": "stdout"
        }
      ]
    },
    {
      "cell_type": "markdown",
      "metadata": {
        "id": "adYkSN1LJJ1D"
      },
      "source": [
        "# Control de Flujo \n",
        "\n",
        "El control de flujo en un programa en python sigue siendo similar al de la mayoria de los lenguajes de programacion las sentecias mas conocidas son **if, elif, else, while, for, range**. \n",
        "\n",
        "La principal diferencia es el anidado en python depende de una tabulacion o 4 espacios. y que hay que poner dos puntos : despues de cada que hay  una comparacion.\n",
        "\n",
        "En el caso del **for** es interezante notar que el conteo depende mucho del arreglo que vaya a recorer o de un intervalo definido por el comando **range**"
      ]
    },
    {
      "cell_type": "markdown",
      "metadata": {
        "id": "MeRC2yaYL4MQ"
      },
      "source": [
        "# Sentencia Condicional if, elif, else"
      ]
    },
    {
      "cell_type": "code",
      "metadata": {
        "colab": {
          "base_uri": "https://localhost:8080/"
        },
        "id": "Z7Qr88pbGjPt",
        "outputId": "c2058508-30f9-4140-9baf-45e16205d0a4"
      },
      "source": [
        "a = 10\n",
        "b = 0.1\n",
        "d='casa'\n",
        "c=d\n",
        "if isinstance(c,int):\n",
        "  print(\"c es un entero\")\n",
        "elif isinstance(c,float):\n",
        "  print(\"c es un flotante\")\n",
        "else:\n",
        "  print(\"c no es un numero\")"
      ],
      "execution_count": 122,
      "outputs": [
        {
          "output_type": "stream",
          "text": [
            "c no es un numero\n"
          ],
          "name": "stdout"
        }
      ]
    },
    {
      "cell_type": "markdown",
      "metadata": {
        "id": "rgNXHyCSNLVF"
      },
      "source": [
        "# Ejemplos Sentencia While"
      ]
    },
    {
      "cell_type": "code",
      "metadata": {
        "colab": {
          "base_uri": "https://localhost:8080/"
        },
        "id": "3hv2uupvM-Gv",
        "outputId": "47dba233-6544-4c0d-cb5e-1878878d97cf"
      },
      "source": [
        "i=10\n",
        "while i!=0:  # sigue en el ciclo mientras i sea diferente de cero se sale del ciclo cuando acabe\n",
        "  print(\"el valor de i es: \",i)\n",
        "  i=i-1\n",
        "print(\"el ciclo acabo porque i es cero\")"
      ],
      "execution_count": 130,
      "outputs": [
        {
          "output_type": "stream",
          "text": [
            "el valor de i es:  10\n",
            "el valor de i es:  9\n",
            "el valor de i es:  8\n",
            "el valor de i es:  7\n",
            "el valor de i es:  6\n",
            "el valor de i es:  5\n",
            "el valor de i es:  4\n",
            "el valor de i es:  3\n",
            "el valor de i es:  2\n",
            "el valor de i es:  1\n",
            "el ciclo acabo porque i es cero\n"
          ],
          "name": "stdout"
        }
      ]
    },
    {
      "cell_type": "markdown",
      "metadata": {
        "id": "dqz-L_EyOQUi"
      },
      "source": [
        "# Ejemplo sentencia FOR"
      ]
    },
    {
      "cell_type": "code",
      "metadata": {
        "colab": {
          "base_uri": "https://localhost:8080/"
        },
        "id": "IvkcK8s2NkLb",
        "outputId": "084f74c2-5216-4043-c4ac-31f700d78679"
      },
      "source": [
        "list1 = [1,2,4,5,6,'casa','c',(12,'mayo',1990),[1,10,100,1000]]\n",
        "for i in range(len(list1)):\n",
        "  print(list1[i])"
      ],
      "execution_count": 136,
      "outputs": [
        {
          "output_type": "stream",
          "text": [
            "1\n",
            "2\n",
            "4\n",
            "5\n",
            "6\n",
            "casa\n",
            "c\n",
            "(12, 'mayo', 1990)\n",
            "[1, 10, 100, 1000]\n"
          ],
          "name": "stdout"
        }
      ]
    }
  ]
}