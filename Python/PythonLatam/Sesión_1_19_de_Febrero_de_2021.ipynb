{
  "nbformat": 4,
  "nbformat_minor": 0,
  "metadata": {
    "colab": {
      "name": "Sesión 1 19 de Febrero de 2021.ipynb",
      "provenance": [],
      "collapsed_sections": [
        "jn-MdSY2CC3K"
      ],
      "toc_visible": true
    },
    "kernelspec": {
      "name": "python3",
      "display_name": "Python 3"
    }
  },
  "cells": [
    {
      "cell_type": "markdown",
      "metadata": {
        "id": "egE93lwCyb6T"
      },
      "source": [
        "# Cadenas de texto o strings (str)\n",
        "* Permiten almacenar una serie de caracteres que siguen un orden, almacenados como texto.\n",
        "* En Python las comillas dobles y las comillas simples son completamente equivalentes, pero en otros lenguajes de programación no lo son."
      ]
    },
    {
      "cell_type": "code",
      "metadata": {
        "colab": {
          "base_uri": "https://localhost:8080/",
          "height": 35
        },
        "id": "LDpwIgo_y1Ej",
        "outputId": "862dfd5f-8114-454f-bdf4-85d97b8f270f"
      },
      "source": [
        "'Mi nombre es Pablo, soy originario de Costa Rica'"
      ],
      "execution_count": null,
      "outputs": [
        {
          "output_type": "execute_result",
          "data": {
            "application/vnd.google.colaboratory.intrinsic+json": {
              "type": "string"
            },
            "text/plain": [
              "'Mi nombre es Pablo, soy originario de Costa Rica'"
            ]
          },
          "metadata": {
            "tags": []
          },
          "execution_count": 98
        }
      ]
    },
    {
      "cell_type": "code",
      "metadata": {
        "colab": {
          "base_uri": "https://localhost:8080/",
          "height": 35
        },
        "id": "Muu2nziny9QD",
        "outputId": "6c9bbacb-7f98-4cdf-9234-fb4426ad4db3"
      },
      "source": [
        "'Gracias por conectarse a una sesión de Python'"
      ],
      "execution_count": null,
      "outputs": [
        {
          "output_type": "execute_result",
          "data": {
            "application/vnd.google.colaboratory.intrinsic+json": {
              "type": "string"
            },
            "text/plain": [
              "'Gracias por conectarse a una sesión de Python'"
            ]
          },
          "metadata": {
            "tags": []
          },
          "execution_count": 99
        }
      ]
    },
    {
      "cell_type": "markdown",
      "metadata": {
        "id": "GJW1wuiwzEa2"
      },
      "source": [
        "Si gustan seguir en contacto y aprender más, pueden seguirme en el [Canal de Youtube](https://www.youtube.com/watch?v=WRRy53RUaWg&t)"
      ]
    },
    {
      "cell_type": "markdown",
      "metadata": {
        "id": "8hvmnY07AxeF"
      },
      "source": [
        "# Hola mundo, Python"
      ]
    },
    {
      "cell_type": "markdown",
      "metadata": {
        "id": "RuZLWUKQtinF"
      },
      "source": [
        "La función print () imprime el mensaje especificado en la pantalla u otro dispositivo de salida estándar. El mensaje puede ser una cadena, o cualquier otro objeto, el objeto se convertirá en una cadena antes de escribirlo en la pantalla."
      ]
    },
    {
      "cell_type": "code",
      "metadata": {
        "colab": {
          "base_uri": "https://localhost:8080/"
        },
        "id": "y_4CRm-ZAzG0",
        "outputId": "b46e4c2f-0fb2-4f8a-e5c7-f727273357c5"
      },
      "source": [
        "print('Hola mundo, Python')"
      ],
      "execution_count": null,
      "outputs": [
        {
          "output_type": "stream",
          "text": [
            "Hola mundo, Python\n"
          ],
          "name": "stdout"
        }
      ]
    },
    {
      "cell_type": "markdown",
      "metadata": {
        "id": "-CTAlk2Qt_Qc"
      },
      "source": [
        "La función tiene al menos 3 partes:\n",
        "- Nombre de la función\n",
        "- Dentro de paréntesis: Los parámetros o argumentos\n",
        "- Muchas veces tiene un valor que se regresa producto de la función"
      ]
    },
    {
      "cell_type": "markdown",
      "metadata": {
        "id": "uXaVDo8mA-X2"
      },
      "source": [
        "# Números enteros"
      ]
    },
    {
      "cell_type": "code",
      "metadata": {
        "colab": {
          "base_uri": "https://localhost:8080/"
        },
        "id": "IZsL7Qj-A7O5",
        "outputId": "73e0da3c-0b81-4786-84d5-1c591a76753b"
      },
      "source": [
        "4"
      ],
      "execution_count": null,
      "outputs": [
        {
          "output_type": "execute_result",
          "data": {
            "text/plain": [
              "4"
            ]
          },
          "metadata": {
            "tags": []
          },
          "execution_count": 101
        }
      ]
    },
    {
      "cell_type": "code",
      "metadata": {
        "colab": {
          "base_uri": "https://localhost:8080/"
        },
        "id": "PinuRqd3BMmd",
        "outputId": "3a42cea9-7ad8-45e9-b1b3-154ed3b3c233"
      },
      "source": [
        "7"
      ],
      "execution_count": null,
      "outputs": [
        {
          "output_type": "execute_result",
          "data": {
            "text/plain": [
              "7"
            ]
          },
          "metadata": {
            "tags": []
          },
          "execution_count": 102
        }
      ]
    },
    {
      "cell_type": "code",
      "metadata": {
        "colab": {
          "base_uri": "https://localhost:8080/"
        },
        "id": "J4NolHxWBNNn",
        "outputId": "c2921d26-ae6b-479c-c4a2-60146dc1a02e"
      },
      "source": [
        "9"
      ],
      "execution_count": null,
      "outputs": [
        {
          "output_type": "execute_result",
          "data": {
            "text/plain": [
              "9"
            ]
          },
          "metadata": {
            "tags": []
          },
          "execution_count": 103
        }
      ]
    },
    {
      "cell_type": "code",
      "metadata": {
        "id": "oXsnJzquBN9z"
      },
      "source": [
        ""
      ],
      "execution_count": null,
      "outputs": []
    },
    {
      "cell_type": "markdown",
      "metadata": {
        "id": "C3XnjBJyBQeR"
      },
      "source": [
        "## Sumas"
      ]
    },
    {
      "cell_type": "code",
      "metadata": {
        "colab": {
          "base_uri": "https://localhost:8080/"
        },
        "id": "Wyd-JvfFBRs7",
        "outputId": "01813f58-2732-426d-dc99-603ab9e9a38b"
      },
      "source": [
        "5 + 4"
      ],
      "execution_count": null,
      "outputs": [
        {
          "output_type": "execute_result",
          "data": {
            "text/plain": [
              "9"
            ]
          },
          "metadata": {
            "tags": []
          },
          "execution_count": 104
        }
      ]
    },
    {
      "cell_type": "code",
      "metadata": {
        "colab": {
          "base_uri": "https://localhost:8080/"
        },
        "id": "-GQM2ZBiBSt6",
        "outputId": "c2c79b26-449b-4776-dd35-4ef23874aef8"
      },
      "source": [
        "7 + 4"
      ],
      "execution_count": null,
      "outputs": [
        {
          "output_type": "execute_result",
          "data": {
            "text/plain": [
              "11"
            ]
          },
          "metadata": {
            "tags": []
          },
          "execution_count": 105
        }
      ]
    },
    {
      "cell_type": "code",
      "metadata": {
        "colab": {
          "base_uri": "https://localhost:8080/"
        },
        "id": "YtJQJ50qBUCw",
        "outputId": "09b51417-a4b6-4e8d-d5df-1e552f29ec21"
      },
      "source": [
        "3 + 1"
      ],
      "execution_count": null,
      "outputs": [
        {
          "output_type": "execute_result",
          "data": {
            "text/plain": [
              "4"
            ]
          },
          "metadata": {
            "tags": []
          },
          "execution_count": 106
        }
      ]
    },
    {
      "cell_type": "code",
      "metadata": {
        "colab": {
          "base_uri": "https://localhost:8080/"
        },
        "id": "jRvxfpMJBVgY",
        "outputId": "16ce2d9d-64a3-4d99-aaf2-5b6493cf18a9"
      },
      "source": [
        "93942 + 72882"
      ],
      "execution_count": null,
      "outputs": [
        {
          "output_type": "execute_result",
          "data": {
            "text/plain": [
              "166824"
            ]
          },
          "metadata": {
            "tags": []
          },
          "execution_count": 107
        }
      ]
    },
    {
      "cell_type": "markdown",
      "metadata": {
        "id": "jn-MdSY2CC3K"
      },
      "source": [
        "## Restas"
      ]
    },
    {
      "cell_type": "code",
      "metadata": {
        "colab": {
          "base_uri": "https://localhost:8080/"
        },
        "id": "wBdl6_KmCFD1",
        "outputId": "f1579e2f-14c7-48ee-b313-0f22901d7990"
      },
      "source": [
        "5 - 2"
      ],
      "execution_count": null,
      "outputs": [
        {
          "output_type": "execute_result",
          "data": {
            "text/plain": [
              "3"
            ]
          },
          "metadata": {
            "tags": []
          },
          "execution_count": 108
        }
      ]
    },
    {
      "cell_type": "code",
      "metadata": {
        "colab": {
          "base_uri": "https://localhost:8080/"
        },
        "id": "raVJ8Z0wCJEw",
        "outputId": "0781a751-3def-4a43-ebf7-cc1a423a854a"
      },
      "source": [
        "7 - 9"
      ],
      "execution_count": null,
      "outputs": [
        {
          "output_type": "execute_result",
          "data": {
            "text/plain": [
              "-2"
            ]
          },
          "metadata": {
            "tags": []
          },
          "execution_count": 109
        }
      ]
    },
    {
      "cell_type": "code",
      "metadata": {
        "colab": {
          "base_uri": "https://localhost:8080/"
        },
        "id": "zbvopxp7CK3c",
        "outputId": "cddc6ff4-2123-4d33-9246-f46fa4988a03"
      },
      "source": [
        "9392 - 828412384"
      ],
      "execution_count": null,
      "outputs": [
        {
          "output_type": "execute_result",
          "data": {
            "text/plain": [
              "-828402992"
            ]
          },
          "metadata": {
            "tags": []
          },
          "execution_count": 110
        }
      ]
    },
    {
      "cell_type": "code",
      "metadata": {
        "id": "SLlALstBCOo2"
      },
      "source": [
        ""
      ],
      "execution_count": null,
      "outputs": []
    },
    {
      "cell_type": "markdown",
      "metadata": {
        "id": "9JUyd0ilrBms"
      },
      "source": [
        "# Números flotantes (o decimales)\n"
      ]
    },
    {
      "cell_type": "code",
      "metadata": {
        "colab": {
          "base_uri": "https://localhost:8080/"
        },
        "id": "0t6D8DvprDKO",
        "outputId": "78cbfd3e-63df-4d9b-ec9e-924373c4002a"
      },
      "source": [
        "5.57"
      ],
      "execution_count": null,
      "outputs": [
        {
          "output_type": "execute_result",
          "data": {
            "text/plain": [
              "5.57"
            ]
          },
          "metadata": {
            "tags": []
          },
          "execution_count": 111
        }
      ]
    },
    {
      "cell_type": "code",
      "metadata": {
        "colab": {
          "base_uri": "https://localhost:8080/"
        },
        "id": "LHtlSKDjrcEg",
        "outputId": "8c71ef30-5019-482b-aaad-b65af18c16c5"
      },
      "source": [
        "7.63"
      ],
      "execution_count": null,
      "outputs": [
        {
          "output_type": "execute_result",
          "data": {
            "text/plain": [
              "7.63"
            ]
          },
          "metadata": {
            "tags": []
          },
          "execution_count": 112
        }
      ]
    },
    {
      "cell_type": "code",
      "metadata": {
        "colab": {
          "base_uri": "https://localhost:8080/"
        },
        "id": "0eYNjhOsreLS",
        "outputId": "e4006e99-831b-44f4-a3b6-a221bdd51cc7"
      },
      "source": [
        "1/3"
      ],
      "execution_count": null,
      "outputs": [
        {
          "output_type": "execute_result",
          "data": {
            "text/plain": [
              "0.3333333333333333"
            ]
          },
          "metadata": {
            "tags": []
          },
          "execution_count": 113
        }
      ]
    },
    {
      "cell_type": "code",
      "metadata": {
        "colab": {
          "base_uri": "https://localhost:8080/"
        },
        "id": "GdGWz9xRrez0",
        "outputId": "88fea892-e567-435a-f524-a27ac45384ab"
      },
      "source": [
        "0.22"
      ],
      "execution_count": null,
      "outputs": [
        {
          "output_type": "execute_result",
          "data": {
            "text/plain": [
              "0.22"
            ]
          },
          "metadata": {
            "tags": []
          },
          "execution_count": 114
        }
      ]
    },
    {
      "cell_type": "code",
      "metadata": {
        "colab": {
          "base_uri": "https://localhost:8080/"
        },
        "id": "pR3lU47nrhRF",
        "outputId": "c95d62b2-faa9-4115-9bbd-046d5c92f5d1"
      },
      "source": [
        "0.15 + 7.15"
      ],
      "execution_count": null,
      "outputs": [
        {
          "output_type": "execute_result",
          "data": {
            "text/plain": [
              "7.300000000000001"
            ]
          },
          "metadata": {
            "tags": []
          },
          "execution_count": 115
        }
      ]
    },
    {
      "cell_type": "markdown",
      "metadata": {
        "id": "qkz9J9SDsA5z"
      },
      "source": [
        "# Cómo averiguar el tipo de objeto\n",
        "\n"
      ]
    },
    {
      "cell_type": "code",
      "metadata": {
        "colab": {
          "base_uri": "https://localhost:8080/"
        },
        "id": "lXsXfMgdrjJV",
        "outputId": "92f3f5c9-501b-4abd-f8e8-f392147e77ba"
      },
      "source": [
        "type(3.83)"
      ],
      "execution_count": null,
      "outputs": [
        {
          "output_type": "execute_result",
          "data": {
            "text/plain": [
              "float"
            ]
          },
          "metadata": {
            "tags": []
          },
          "execution_count": 116
        }
      ]
    },
    {
      "cell_type": "code",
      "metadata": {
        "colab": {
          "base_uri": "https://localhost:8080/"
        },
        "id": "WuJsDBIsr74C",
        "outputId": "e712fd44-edc6-4a09-ff12-22ae5be51340"
      },
      "source": [
        "type(3)"
      ],
      "execution_count": null,
      "outputs": [
        {
          "output_type": "execute_result",
          "data": {
            "text/plain": [
              "int"
            ]
          },
          "metadata": {
            "tags": []
          },
          "execution_count": 117
        }
      ]
    },
    {
      "cell_type": "code",
      "metadata": {
        "colab": {
          "base_uri": "https://localhost:8080/"
        },
        "id": "flk-8w3AsM-J",
        "outputId": "31c3a629-9a86-4917-d8be-d7ef151605c9"
      },
      "source": [
        "type('Hola mundo')"
      ],
      "execution_count": null,
      "outputs": [
        {
          "output_type": "execute_result",
          "data": {
            "text/plain": [
              "str"
            ]
          },
          "metadata": {
            "tags": []
          },
          "execution_count": 118
        }
      ]
    },
    {
      "cell_type": "code",
      "metadata": {
        "colab": {
          "base_uri": "https://localhost:8080/"
        },
        "id": "TQKw7ro9sPlB",
        "outputId": "cd50354a-e551-452c-cd73-857c644324be"
      },
      "source": [
        "type(60.43)"
      ],
      "execution_count": null,
      "outputs": [
        {
          "output_type": "execute_result",
          "data": {
            "text/plain": [
              "float"
            ]
          },
          "metadata": {
            "tags": []
          },
          "execution_count": 119
        }
      ]
    },
    {
      "cell_type": "markdown",
      "metadata": {
        "id": "AZIUIrEr5EvY"
      },
      "source": [
        "# Booleanos"
      ]
    },
    {
      "cell_type": "markdown",
      "metadata": {
        "id": "xZjyCLD35HlH"
      },
      "source": [
        ""
      ]
    },
    {
      "cell_type": "code",
      "metadata": {
        "colab": {
          "base_uri": "https://localhost:8080/"
        },
        "id": "eQIcPNO95Hvw",
        "outputId": "4569a78e-b34d-480f-c051-65ba0dfd64e2"
      },
      "source": [
        "True"
      ],
      "execution_count": null,
      "outputs": [
        {
          "output_type": "execute_result",
          "data": {
            "text/plain": [
              "True"
            ]
          },
          "metadata": {
            "tags": []
          },
          "execution_count": 182
        }
      ]
    },
    {
      "cell_type": "code",
      "metadata": {
        "colab": {
          "base_uri": "https://localhost:8080/"
        },
        "id": "jsHtBN735Umk",
        "outputId": "076ea788-18ac-4e3a-9cbc-3899c8a9eb94"
      },
      "source": [
        "False"
      ],
      "execution_count": null,
      "outputs": [
        {
          "output_type": "execute_result",
          "data": {
            "text/plain": [
              "False"
            ]
          },
          "metadata": {
            "tags": []
          },
          "execution_count": 183
        }
      ]
    },
    {
      "cell_type": "code",
      "metadata": {
        "colab": {
          "base_uri": "https://localhost:8080/"
        },
        "id": "cnjaS4R55V6J",
        "outputId": "c7992cbf-ee5a-4abb-e6f3-c19b501a9ab4"
      },
      "source": [
        "False == 0"
      ],
      "execution_count": null,
      "outputs": [
        {
          "output_type": "execute_result",
          "data": {
            "text/plain": [
              "True"
            ]
          },
          "metadata": {
            "tags": []
          },
          "execution_count": 184
        }
      ]
    },
    {
      "cell_type": "code",
      "metadata": {
        "colab": {
          "base_uri": "https://localhost:8080/"
        },
        "id": "UaPO8N2E5YnQ",
        "outputId": "c9de0cca-3990-45dd-8599-9725516a9bfd"
      },
      "source": [
        "True == 1"
      ],
      "execution_count": null,
      "outputs": [
        {
          "output_type": "execute_result",
          "data": {
            "text/plain": [
              "True"
            ]
          },
          "metadata": {
            "tags": []
          },
          "execution_count": 185
        }
      ]
    },
    {
      "cell_type": "code",
      "metadata": {
        "colab": {
          "base_uri": "https://localhost:8080/"
        },
        "id": "9OIpb-gN5b5S",
        "outputId": "955f16ac-d333-4aba-da21-a33549799012"
      },
      "source": [
        "'abc' == 'cba'"
      ],
      "execution_count": null,
      "outputs": [
        {
          "output_type": "execute_result",
          "data": {
            "text/plain": [
              "False"
            ]
          },
          "metadata": {
            "tags": []
          },
          "execution_count": 186
        }
      ]
    },
    {
      "cell_type": "code",
      "metadata": {
        "colab": {
          "base_uri": "https://localhost:8080/"
        },
        "id": "VRj8PmPC5cBB",
        "outputId": "04432d00-2fcb-4a24-ea7a-ceff7918e903"
      },
      "source": [
        "'abc' == 'abc'"
      ],
      "execution_count": null,
      "outputs": [
        {
          "output_type": "execute_result",
          "data": {
            "text/plain": [
              "True"
            ]
          },
          "metadata": {
            "tags": []
          },
          "execution_count": 187
        }
      ]
    },
    {
      "cell_type": "code",
      "metadata": {
        "colab": {
          "base_uri": "https://localhost:8080/"
        },
        "id": "Oo3bYfHH5cHE",
        "outputId": "7d45fe22-6095-425f-b34a-5f4918deaad6"
      },
      "source": [
        "'abc' != 'cba'"
      ],
      "execution_count": null,
      "outputs": [
        {
          "output_type": "execute_result",
          "data": {
            "text/plain": [
              "True"
            ]
          },
          "metadata": {
            "tags": []
          },
          "execution_count": 188
        }
      ]
    },
    {
      "cell_type": "code",
      "metadata": {
        "colab": {
          "base_uri": "https://localhost:8080/"
        },
        "id": "YKXraq5d5iae",
        "outputId": "583fe4ef-3bd0-48e5-df1f-ae92b4e030f2"
      },
      "source": [
        "5000 == 5000"
      ],
      "execution_count": null,
      "outputs": [
        {
          "output_type": "execute_result",
          "data": {
            "text/plain": [
              "True"
            ]
          },
          "metadata": {
            "tags": []
          },
          "execution_count": 189
        }
      ]
    },
    {
      "cell_type": "code",
      "metadata": {
        "colab": {
          "base_uri": "https://localhost:8080/"
        },
        "id": "IsVXep8M5pSW",
        "outputId": "a2404a71-a21f-4129-bf42-29ad2e1a965f"
      },
      "source": [
        "5 > 8"
      ],
      "execution_count": null,
      "outputs": [
        {
          "output_type": "execute_result",
          "data": {
            "text/plain": [
              "False"
            ]
          },
          "metadata": {
            "tags": []
          },
          "execution_count": 190
        }
      ]
    },
    {
      "cell_type": "code",
      "metadata": {
        "colab": {
          "base_uri": "https://localhost:8080/"
        },
        "id": "OPD6BW-W5qTf",
        "outputId": "6d0f5726-5601-4c71-fce0-672cfabbc648"
      },
      "source": [
        "7 >= 5"
      ],
      "execution_count": null,
      "outputs": [
        {
          "output_type": "execute_result",
          "data": {
            "text/plain": [
              "True"
            ]
          },
          "metadata": {
            "tags": []
          },
          "execution_count": 191
        }
      ]
    },
    {
      "cell_type": "code",
      "metadata": {
        "colab": {
          "base_uri": "https://localhost:8080/"
        },
        "id": "mNkzEfVC5sIO",
        "outputId": "dd74e1ed-8ae9-4c5e-b88a-44c021a0390e"
      },
      "source": [
        "7 >= 7"
      ],
      "execution_count": null,
      "outputs": [
        {
          "output_type": "execute_result",
          "data": {
            "text/plain": [
              "True"
            ]
          },
          "metadata": {
            "tags": []
          },
          "execution_count": 192
        }
      ]
    },
    {
      "cell_type": "code",
      "metadata": {
        "colab": {
          "base_uri": "https://localhost:8080/"
        },
        "id": "mjYDZAWm5tvs",
        "outputId": "a0555c0c-06dc-4953-f7ff-205d6aafbfa8"
      },
      "source": [
        "7 <= 500"
      ],
      "execution_count": null,
      "outputs": [
        {
          "output_type": "execute_result",
          "data": {
            "text/plain": [
              "True"
            ]
          },
          "metadata": {
            "tags": []
          },
          "execution_count": 193
        }
      ]
    },
    {
      "cell_type": "code",
      "metadata": {
        "colab": {
          "base_uri": "https://localhost:8080/"
        },
        "id": "OR1t_SZI5wdO",
        "outputId": "b75c872d-fafd-48fd-c53c-f00f8e66b4f7"
      },
      "source": [
        "5 > 3"
      ],
      "execution_count": null,
      "outputs": [
        {
          "output_type": "execute_result",
          "data": {
            "text/plain": [
              "True"
            ]
          },
          "metadata": {
            "tags": []
          },
          "execution_count": 194
        }
      ]
    },
    {
      "cell_type": "code",
      "metadata": {
        "id": "mquMjRFT5z6D"
      },
      "source": [
        ""
      ],
      "execution_count": null,
      "outputs": []
    },
    {
      "cell_type": "code",
      "metadata": {
        "colab": {
          "base_uri": "https://localhost:8080/"
        },
        "id": "IkYZ2fYu5xx3",
        "outputId": "44dbc42b-17d6-443c-b6ad-bc6862b8fa15"
      },
      "source": [
        "20 < 50"
      ],
      "execution_count": null,
      "outputs": [
        {
          "output_type": "execute_result",
          "data": {
            "text/plain": [
              "True"
            ]
          },
          "metadata": {
            "tags": []
          },
          "execution_count": 195
        }
      ]
    },
    {
      "cell_type": "code",
      "metadata": {
        "id": "VxLlFDqG6K3H"
      },
      "source": [
        ""
      ],
      "execution_count": null,
      "outputs": []
    },
    {
      "cell_type": "markdown",
      "metadata": {
        "id": "EyrJh1ZH6fDo"
      },
      "source": [
        "## Operadores AND y OR\n",
        "* AND = &\n",
        "* OR = |"
      ]
    },
    {
      "cell_type": "code",
      "metadata": {
        "colab": {
          "base_uri": "https://localhost:8080/"
        },
        "id": "L6THK_Kc50fS",
        "outputId": "62372eec-1dd1-42fa-d8a2-5ba70a63fd81"
      },
      "source": [
        "(5 > 3) & (20 < 50)"
      ],
      "execution_count": null,
      "outputs": [
        {
          "output_type": "execute_result",
          "data": {
            "text/plain": [
              "True"
            ]
          },
          "metadata": {
            "tags": []
          },
          "execution_count": 204
        }
      ]
    },
    {
      "cell_type": "code",
      "metadata": {
        "colab": {
          "base_uri": "https://localhost:8080/"
        },
        "id": "rzlBP5RP54Fx",
        "outputId": "3634c079-d468-4779-b360-a3843e91d682"
      },
      "source": [
        "(5 > 3) & (20 < 15)"
      ],
      "execution_count": null,
      "outputs": [
        {
          "output_type": "execute_result",
          "data": {
            "text/plain": [
              "False"
            ]
          },
          "metadata": {
            "tags": []
          },
          "execution_count": 205
        }
      ]
    },
    {
      "cell_type": "code",
      "metadata": {
        "colab": {
          "base_uri": "https://localhost:8080/"
        },
        "id": "wqT8dS4u57yZ",
        "outputId": "731ff378-767c-41ff-886d-f0794185b0a4"
      },
      "source": [
        "(5 > 3) | (20 < 15)"
      ],
      "execution_count": null,
      "outputs": [
        {
          "output_type": "execute_result",
          "data": {
            "text/plain": [
              "True"
            ]
          },
          "metadata": {
            "tags": []
          },
          "execution_count": 206
        }
      ]
    },
    {
      "cell_type": "markdown",
      "metadata": {
        "id": "ovNpBgO2wqSW"
      },
      "source": [
        "# Colecciones\n",
        "\n",
        "Existen 4 tipos de datos integrados en Python que se utilizan para almacenar **colecciones de datos**:\n",
        "* Listas o lists\n",
        "* Tuplas o tuples\n",
        "* Conjuntos o sets\n",
        "* Diccionario"
      ]
    },
    {
      "cell_type": "markdown",
      "metadata": {
        "id": "e3qkBkX_up5R"
      },
      "source": [
        "# Listas"
      ]
    },
    {
      "cell_type": "markdown",
      "metadata": {
        "id": "_BcnBBR-v3Kl"
      },
      "source": [
        "Una lista es una estructura de datos y un tipo de dato en python con características especiales. Lo especial de las listas en Python es que nos permiten almacenar cualquier tipo de valor como enteros, cadenas y hasta otras funciones; por ejemplo:"
      ]
    },
    {
      "cell_type": "code",
      "metadata": {
        "colab": {
          "base_uri": "https://localhost:8080/"
        },
        "id": "UJ735lPiukzj",
        "outputId": "06d9240d-8ede-4aeb-f552-99b65337d7b0"
      },
      "source": [
        "[1,2,3,4,5]"
      ],
      "execution_count": null,
      "outputs": [
        {
          "output_type": "execute_result",
          "data": {
            "text/plain": [
              "[1, 2, 3, 4, 5]"
            ]
          },
          "metadata": {
            "tags": []
          },
          "execution_count": 120
        }
      ]
    },
    {
      "cell_type": "code",
      "metadata": {
        "colab": {
          "base_uri": "https://localhost:8080/"
        },
        "id": "wYwiKfYHv3os",
        "outputId": "0a180547-2a3c-4475-eec5-0e6c31596d95"
      },
      "source": [
        "['a', 'b', 'c']"
      ],
      "execution_count": null,
      "outputs": [
        {
          "output_type": "execute_result",
          "data": {
            "text/plain": [
              "['a', 'b', 'c']"
            ]
          },
          "metadata": {
            "tags": []
          },
          "execution_count": 121
        }
      ]
    },
    {
      "cell_type": "code",
      "metadata": {
        "colab": {
          "base_uri": "https://localhost:8080/"
        },
        "id": "ij5OLfvPv91f",
        "outputId": "33e6e781-f699-4b44-e121-eb06f808d0c6"
      },
      "source": [
        "[5, 'n', 'Juan']"
      ],
      "execution_count": null,
      "outputs": [
        {
          "output_type": "execute_result",
          "data": {
            "text/plain": [
              "[5, 'n', 'Juan']"
            ]
          },
          "metadata": {
            "tags": []
          },
          "execution_count": 122
        }
      ]
    },
    {
      "cell_type": "markdown",
      "metadata": {
        "id": "5UfMjavrwGK0"
      },
      "source": [
        "# Tuplas\n",
        "Las tuplas se utilizan para almacenar varios elementos en una sola variable, sin permitir una modificación posterior a los elementos, es decir, es *inmutable*"
      ]
    },
    {
      "cell_type": "code",
      "metadata": {
        "colab": {
          "base_uri": "https://localhost:8080/"
        },
        "id": "jrPT5pACwTVx",
        "outputId": "d27bba9c-6176-4b6f-f138-44566daeceb3"
      },
      "source": [
        "(1,2,3)"
      ],
      "execution_count": null,
      "outputs": [
        {
          "output_type": "execute_result",
          "data": {
            "text/plain": [
              "(1, 2, 3)"
            ]
          },
          "metadata": {
            "tags": []
          },
          "execution_count": 123
        }
      ]
    },
    {
      "cell_type": "code",
      "metadata": {
        "colab": {
          "base_uri": "https://localhost:8080/"
        },
        "id": "B13awarvxJr1",
        "outputId": "56f1990c-c1fa-46f6-ecff-649cdbb27693"
      },
      "source": [
        "('a', 'b', 'c')"
      ],
      "execution_count": null,
      "outputs": [
        {
          "output_type": "execute_result",
          "data": {
            "text/plain": [
              "('a', 'b', 'c')"
            ]
          },
          "metadata": {
            "tags": []
          },
          "execution_count": 124
        }
      ]
    },
    {
      "cell_type": "code",
      "metadata": {
        "colab": {
          "base_uri": "https://localhost:8080/"
        },
        "id": "RJY4M8nrxMgB",
        "outputId": "3bb8acd8-2c33-49c0-b8f2-583a8fba4200"
      },
      "source": [
        "(5, 'n', 'Juan')"
      ],
      "execution_count": null,
      "outputs": [
        {
          "output_type": "execute_result",
          "data": {
            "text/plain": [
              "(5, 'n', 'Juan')"
            ]
          },
          "metadata": {
            "tags": []
          },
          "execution_count": 125
        }
      ]
    },
    {
      "cell_type": "markdown",
      "metadata": {
        "id": "cp-BIN_zxSoS"
      },
      "source": [
        "# Conjuntos o sets\n",
        "Permiten almacenar valores únicos, es decir, un mismo valor no se encontrará más de una vez en un conjunto"
      ]
    },
    {
      "cell_type": "code",
      "metadata": {
        "colab": {
          "base_uri": "https://localhost:8080/"
        },
        "id": "2XmrtuQxxOOp",
        "outputId": "d312e9d6-911b-4d9e-b920-4bd1df671961"
      },
      "source": [
        "{1,2,3}"
      ],
      "execution_count": null,
      "outputs": [
        {
          "output_type": "execute_result",
          "data": {
            "text/plain": [
              "{1, 2, 3}"
            ]
          },
          "metadata": {
            "tags": []
          },
          "execution_count": 126
        }
      ]
    },
    {
      "cell_type": "code",
      "metadata": {
        "colab": {
          "base_uri": "https://localhost:8080/"
        },
        "id": "BoQ-TmPDxdX9",
        "outputId": "3fa8fbae-fbe0-4b07-987d-0d5a6153ee78"
      },
      "source": [
        "{'a', 'b', 'c'}"
      ],
      "execution_count": null,
      "outputs": [
        {
          "output_type": "execute_result",
          "data": {
            "text/plain": [
              "{'a', 'b', 'c'}"
            ]
          },
          "metadata": {
            "tags": []
          },
          "execution_count": 127
        }
      ]
    },
    {
      "cell_type": "code",
      "metadata": {
        "colab": {
          "base_uri": "https://localhost:8080/"
        },
        "id": "_TPxGfmuxe6b",
        "outputId": "923443b3-c8b3-4b70-8399-f5ec56373dbf"
      },
      "source": [
        "{5, 'n', 'Juan'}"
      ],
      "execution_count": null,
      "outputs": [
        {
          "output_type": "execute_result",
          "data": {
            "text/plain": [
              "{5, 'Juan', 'n'}"
            ]
          },
          "metadata": {
            "tags": []
          },
          "execution_count": 128
        }
      ]
    },
    {
      "cell_type": "markdown",
      "metadata": {
        "id": "1cwN2ajdxjLI"
      },
      "source": [
        "# Diccionarios\n",
        "\n",
        "Un Diccionario es una estructura de datos y un tipo de dato en Python con características especiales que nos permite almacenar cualquier tipo de valor como enteros, cadenas, listas e incluso otras funciones. Estos diccionarios nos permiten además identificar cada elemento por una clave (Key). [Fuente](https://devcode.la/tutoriales/diccionarios-en-python/)"
      ]
    },
    {
      "cell_type": "code",
      "metadata": {
        "colab": {
          "base_uri": "https://localhost:8080/"
        },
        "id": "E1ur07C7xg8-",
        "outputId": "14a0e6d7-ab32-48e1-f983-c002bb237b6f"
      },
      "source": [
        "{ 'nombre' : 'Juan', 'apellido' : 'Rodríguez', 'edad':31, 'fecha_nacimiento' : '1990-02-15'}"
      ],
      "execution_count": null,
      "outputs": [
        {
          "output_type": "execute_result",
          "data": {
            "text/plain": [
              "{'apellido': 'Rodríguez',\n",
              " 'edad': 31,\n",
              " 'fecha_nacimiento': '1990-02-15',\n",
              " 'nombre': 'Juan'}"
            ]
          },
          "metadata": {
            "tags": []
          },
          "execution_count": 129
        }
      ]
    },
    {
      "cell_type": "code",
      "metadata": {
        "colab": {
          "base_uri": "https://localhost:8080/"
        },
        "id": "K5-0XFMMyFgV",
        "outputId": "8925dbef-ba20-47a4-b8d9-17d6c6b8c7bb"
      },
      "source": [
        "{ 'videojuego' : 'buscaminas', 'dificultad' : 'fácil', 'idioma': 'inglés', 'descargas' : 1789051}"
      ],
      "execution_count": null,
      "outputs": [
        {
          "output_type": "execute_result",
          "data": {
            "text/plain": [
              "{'descargas': 1789051,\n",
              " 'dificultad': 'fácil',\n",
              " 'idioma': 'inglés',\n",
              " 'videojuego': 'buscaminas'}"
            ]
          },
          "metadata": {
            "tags": []
          },
          "execution_count": 130
        }
      ]
    },
    {
      "cell_type": "markdown",
      "metadata": {
        "id": "-BUE8qLu0Agj"
      },
      "source": [
        "## Asignación de objetos a variables"
      ]
    },
    {
      "cell_type": "markdown",
      "metadata": {
        "id": "d8V97ahA0LfI"
      },
      "source": [
        "[Fuente](https://www.mclibre.org/consultar/python/lecciones/python-variables.html)\n",
        "# Variables en Matemáticas\n",
        "El concepto de \"variable\" proviene de las Matemáticas. En Matemáticas, una variable es un símbolo que forma parte de una expresión o de una fórmula. Normalmente las variables se representan mediante letras del alfabeto latino ( x, y, z, n, i, j, etc.). Dependiendo del contexto, las variables significan cosas distintas. Por ejemplo:\n",
        "\n",
        "x + 3 = 5\n",
        "\n",
        "En este caso, la variable x representa una cantidad desconocida pero de la que se sabe que si se le suma 3 se obtiene 5. Resolviendo la ecuación, obtenemos inmediatamente que la variable x estaba representando realmente el número 2.\n",
        "\n",
        "# Variables en Programación\n",
        "En Programación también existe el concepto de \"variable\", parecido pero no idéntico al concepto matemático.\n",
        "\n",
        "\n",
        "En muchos lenguajes de programación, una variable se puede entender como una especie de caja en la que se puede guardar un valor (por ejemplo, un valor numérico). Esa caja suele corresponder a una posición de memoria en la memoria del ordenador.\n",
        "\n",
        "a = 2\n",
        "\n",
        "... lo que estamos pidiendo al programa es que guarde el valor 2 en una \"caja\" y que a la caja le llame a.\n",
        "\n",
        "En Python el símbolo igualdad (=) hay que entenderlo como una asignación, no como una igualdad matemática. Al escribir una igualdad, le estamos pidiendo al programa que calcule lo que hay a la derecha de la igualdad y que lo guarde en la variable que hay a la izquierda de la igualdad.\n",
        "\n",
        "No es posible hacer una asignación de la siguiente forma:\n",
        "\n",
        "2 = x"
      ]
    },
    {
      "cell_type": "code",
      "metadata": {
        "id": "BG7W5Y7pyQ0z"
      },
      "source": [
        "x = 2"
      ],
      "execution_count": null,
      "outputs": []
    },
    {
      "cell_type": "code",
      "metadata": {
        "colab": {
          "base_uri": "https://localhost:8080/"
        },
        "id": "6KZMivQW05vm",
        "outputId": "91bda670-5cc0-4d22-8216-b4261d6ed393"
      },
      "source": [
        "x"
      ],
      "execution_count": null,
      "outputs": [
        {
          "output_type": "execute_result",
          "data": {
            "text/plain": [
              "2"
            ]
          },
          "metadata": {
            "tags": []
          },
          "execution_count": 134
        }
      ]
    },
    {
      "cell_type": "code",
      "metadata": {
        "id": "qRlPdJoS0s2d"
      },
      "source": [
        "edad = 31"
      ],
      "execution_count": null,
      "outputs": []
    },
    {
      "cell_type": "code",
      "metadata": {
        "colab": {
          "base_uri": "https://localhost:8080/"
        },
        "id": "nr1_hLsK04ui",
        "outputId": "be8cbe66-e74e-49d4-cf19-80761392adfd"
      },
      "source": [
        "edad"
      ],
      "execution_count": null,
      "outputs": [
        {
          "output_type": "execute_result",
          "data": {
            "text/plain": [
              "31"
            ]
          },
          "metadata": {
            "tags": []
          },
          "execution_count": 145
        }
      ]
    },
    {
      "cell_type": "code",
      "metadata": {
        "colab": {
          "base_uri": "https://localhost:8080/"
        },
        "id": "iei02BhQ07LU",
        "outputId": "a4b91f36-6724-4a8b-9be1-b231f6c5ab07"
      },
      "source": [
        "edad + x"
      ],
      "execution_count": null,
      "outputs": [
        {
          "output_type": "execute_result",
          "data": {
            "text/plain": [
              "33"
            ]
          },
          "metadata": {
            "tags": []
          },
          "execution_count": 146
        }
      ]
    },
    {
      "cell_type": "code",
      "metadata": {
        "id": "SEWyT8Ts08Pi"
      },
      "source": [
        "nombre = 'Juan'"
      ],
      "execution_count": null,
      "outputs": []
    },
    {
      "cell_type": "code",
      "metadata": {
        "colab": {
          "base_uri": "https://localhost:8080/",
          "height": 35
        },
        "id": "xBzMC6dN0-Hy",
        "outputId": "34d4f487-cfeb-4011-9b77-9f5dfd684198"
      },
      "source": [
        "nombre"
      ],
      "execution_count": null,
      "outputs": [
        {
          "output_type": "execute_result",
          "data": {
            "application/vnd.google.colaboratory.intrinsic+json": {
              "type": "string"
            },
            "text/plain": [
              "'Juan'"
            ]
          },
          "metadata": {
            "tags": []
          },
          "execution_count": 148
        }
      ]
    },
    {
      "cell_type": "code",
      "metadata": {
        "id": "SsZDL6lA0-7E"
      },
      "source": [
        "apellido = 'Rodriguez'"
      ],
      "execution_count": null,
      "outputs": []
    },
    {
      "cell_type": "code",
      "metadata": {
        "colab": {
          "base_uri": "https://localhost:8080/",
          "height": 35
        },
        "id": "VSdkJ7ov1ApS",
        "outputId": "c68aef37-c7f7-4e4b-c536-c462428f32ac"
      },
      "source": [
        "apellido"
      ],
      "execution_count": null,
      "outputs": [
        {
          "output_type": "execute_result",
          "data": {
            "application/vnd.google.colaboratory.intrinsic+json": {
              "type": "string"
            },
            "text/plain": [
              "'Rodriguez'"
            ]
          },
          "metadata": {
            "tags": []
          },
          "execution_count": 150
        }
      ]
    },
    {
      "cell_type": "code",
      "metadata": {
        "colab": {
          "base_uri": "https://localhost:8080/",
          "height": 35
        },
        "id": "dU0HVTXI1BQL",
        "outputId": "337ab088-95f1-40ca-a4bc-ca117becb91e"
      },
      "source": [
        "nombre + apellido"
      ],
      "execution_count": null,
      "outputs": [
        {
          "output_type": "execute_result",
          "data": {
            "application/vnd.google.colaboratory.intrinsic+json": {
              "type": "string"
            },
            "text/plain": [
              "'JuanRodriguez'"
            ]
          },
          "metadata": {
            "tags": []
          },
          "execution_count": 151
        }
      ]
    },
    {
      "cell_type": "code",
      "metadata": {
        "colab": {
          "base_uri": "https://localhost:8080/",
          "height": 35
        },
        "id": "M1VS9K5c1Dox",
        "outputId": "a632c7d9-54b6-4d9d-d671-c509c750778f"
      },
      "source": [
        "nombre + ' ' + apellido "
      ],
      "execution_count": null,
      "outputs": [
        {
          "output_type": "execute_result",
          "data": {
            "application/vnd.google.colaboratory.intrinsic+json": {
              "type": "string"
            },
            "text/plain": [
              "'Juan Rodriguez'"
            ]
          },
          "metadata": {
            "tags": []
          },
          "execution_count": 152
        }
      ]
    },
    {
      "cell_type": "markdown",
      "metadata": {
        "id": "lAFYkD6x1S9V"
      },
      "source": [
        "# Reasignación de variables"
      ]
    },
    {
      "cell_type": "code",
      "metadata": {
        "colab": {
          "base_uri": "https://localhost:8080/",
          "height": 35
        },
        "id": "6PXQjR031GqV",
        "outputId": "edf45b3e-8451-4619-fe3e-c50c2f0fdf60"
      },
      "source": [
        "nombre"
      ],
      "execution_count": null,
      "outputs": [
        {
          "output_type": "execute_result",
          "data": {
            "application/vnd.google.colaboratory.intrinsic+json": {
              "type": "string"
            },
            "text/plain": [
              "'Juan'"
            ]
          },
          "metadata": {
            "tags": []
          },
          "execution_count": 153
        }
      ]
    },
    {
      "cell_type": "code",
      "metadata": {
        "id": "b3VKxTcv1V-i"
      },
      "source": [
        "nombre = 'Pedro'"
      ],
      "execution_count": null,
      "outputs": []
    },
    {
      "cell_type": "code",
      "metadata": {
        "colab": {
          "base_uri": "https://localhost:8080/",
          "height": 35
        },
        "id": "xxmQbcQ_1XbI",
        "outputId": "bcd8c11c-a1a7-4ff9-a320-78f3a02c0993"
      },
      "source": [
        "nombre"
      ],
      "execution_count": null,
      "outputs": [
        {
          "output_type": "execute_result",
          "data": {
            "application/vnd.google.colaboratory.intrinsic+json": {
              "type": "string"
            },
            "text/plain": [
              "'Pedro'"
            ]
          },
          "metadata": {
            "tags": []
          },
          "execution_count": 155
        }
      ]
    },
    {
      "cell_type": "markdown",
      "metadata": {
        "id": "0LAc-2VD2Fp1"
      },
      "source": [
        "# Selección de elementos de una colección mediante el índice"
      ]
    },
    {
      "cell_type": "markdown",
      "metadata": {
        "id": "5ssQLj0v23ex"
      },
      "source": [
        "### Lista"
      ]
    },
    {
      "cell_type": "code",
      "metadata": {
        "id": "R4H5wd1z1YAI"
      },
      "source": [
        "lista = ['a', 'b', 'c']"
      ],
      "execution_count": null,
      "outputs": []
    },
    {
      "cell_type": "code",
      "metadata": {
        "colab": {
          "base_uri": "https://localhost:8080/",
          "height": 35
        },
        "id": "rh96060K2NIr",
        "outputId": "ccf5e86c-2a3a-465f-c173-fd4915cc3a1d"
      },
      "source": [
        "lista[1]"
      ],
      "execution_count": null,
      "outputs": [
        {
          "output_type": "execute_result",
          "data": {
            "application/vnd.google.colaboratory.intrinsic+json": {
              "type": "string"
            },
            "text/plain": [
              "'b'"
            ]
          },
          "metadata": {
            "tags": []
          },
          "execution_count": 157
        }
      ]
    },
    {
      "cell_type": "markdown",
      "metadata": {
        "id": "mMcmEGoO3giZ"
      },
      "source": [
        "\n",
        "> Asignación en una lista\n",
        "\n"
      ]
    },
    {
      "cell_type": "code",
      "metadata": {
        "id": "bhICyFvm3jp6"
      },
      "source": [
        "lista[1] = 'f'"
      ],
      "execution_count": null,
      "outputs": []
    },
    {
      "cell_type": "code",
      "metadata": {
        "colab": {
          "base_uri": "https://localhost:8080/"
        },
        "id": "jaLhCtQF3lZG",
        "outputId": "0850d11e-9d8d-4ce0-d902-1370d3f205f2"
      },
      "source": [
        "lista"
      ],
      "execution_count": null,
      "outputs": [
        {
          "output_type": "execute_result",
          "data": {
            "text/plain": [
              "['a', 'f', 'c']"
            ]
          },
          "metadata": {
            "tags": []
          },
          "execution_count": 179
        }
      ]
    },
    {
      "cell_type": "markdown",
      "metadata": {
        "id": "F7dCfi8l26Qt"
      },
      "source": [
        "### Tupla"
      ]
    },
    {
      "cell_type": "code",
      "metadata": {
        "id": "1S2dtVvk2Om7"
      },
      "source": [
        "tupla = ('a', 'b', 'c')"
      ],
      "execution_count": null,
      "outputs": []
    },
    {
      "cell_type": "code",
      "metadata": {
        "colab": {
          "base_uri": "https://localhost:8080/",
          "height": 35
        },
        "id": "zFY0I3Ii2TOM",
        "outputId": "c7e48cc3-e4b5-44c4-d87a-f9e6387e6f6d"
      },
      "source": [
        "tupla[1]"
      ],
      "execution_count": null,
      "outputs": [
        {
          "output_type": "execute_result",
          "data": {
            "application/vnd.google.colaboratory.intrinsic+json": {
              "type": "string"
            },
            "text/plain": [
              "'b'"
            ]
          },
          "metadata": {
            "tags": []
          },
          "execution_count": 159
        }
      ]
    },
    {
      "cell_type": "markdown",
      "metadata": {
        "id": "hpFolqc23X_r"
      },
      "source": [
        "\n",
        "\n",
        ">Asignación en tupla\n",
        "\n"
      ]
    },
    {
      "cell_type": "code",
      "metadata": {
        "colab": {
          "base_uri": "https://localhost:8080/",
          "height": 165
        },
        "id": "ZdSWRUsc3boS",
        "outputId": "1eecf836-22a1-47e7-ea03-52a901559800"
      },
      "source": [
        "tupla[1] = 'f'"
      ],
      "execution_count": null,
      "outputs": [
        {
          "output_type": "error",
          "ename": "TypeError",
          "evalue": "ignored",
          "traceback": [
            "\u001b[0;31m---------------------------------------------------------------------------\u001b[0m",
            "\u001b[0;31mTypeError\u001b[0m                                 Traceback (most recent call last)",
            "\u001b[0;32m<ipython-input-177-37b670762add>\u001b[0m in \u001b[0;36m<module>\u001b[0;34m()\u001b[0m\n\u001b[0;32m----> 1\u001b[0;31m \u001b[0mtupla\u001b[0m\u001b[0;34m[\u001b[0m\u001b[0;36m1\u001b[0m\u001b[0;34m]\u001b[0m \u001b[0;34m=\u001b[0m \u001b[0;34m'f'\u001b[0m\u001b[0;34m\u001b[0m\u001b[0;34m\u001b[0m\u001b[0m\n\u001b[0m",
            "\u001b[0;31mTypeError\u001b[0m: 'tuple' object does not support item assignment"
          ]
        }
      ]
    },
    {
      "cell_type": "markdown",
      "metadata": {
        "id": "Hay-bwRC28Oe"
      },
      "source": [
        "### Conjunto"
      ]
    },
    {
      "cell_type": "code",
      "metadata": {
        "id": "bkQowDkW2UNR"
      },
      "source": [
        "conjunto = {'a', 'b', 'c'}"
      ],
      "execution_count": null,
      "outputs": []
    },
    {
      "cell_type": "code",
      "metadata": {
        "colab": {
          "base_uri": "https://localhost:8080/",
          "height": 165
        },
        "id": "OzmlWgmY2X4y",
        "outputId": "f0c6ae45-c7dc-4b35-824e-d7f194840b51"
      },
      "source": [
        "conjunto[1]"
      ],
      "execution_count": null,
      "outputs": [
        {
          "output_type": "error",
          "ename": "TypeError",
          "evalue": "ignored",
          "traceback": [
            "\u001b[0;31m---------------------------------------------------------------------------\u001b[0m",
            "\u001b[0;31mTypeError\u001b[0m                                 Traceback (most recent call last)",
            "\u001b[0;32m<ipython-input-166-7ce6f67837a8>\u001b[0m in \u001b[0;36m<module>\u001b[0;34m()\u001b[0m\n\u001b[0;32m----> 1\u001b[0;31m \u001b[0mconjunto\u001b[0m\u001b[0;34m[\u001b[0m\u001b[0;36m1\u001b[0m\u001b[0;34m]\u001b[0m\u001b[0;34m\u001b[0m\u001b[0;34m\u001b[0m\u001b[0m\n\u001b[0m",
            "\u001b[0;31mTypeError\u001b[0m: 'set' object does not support indexing"
          ]
        }
      ]
    },
    {
      "cell_type": "code",
      "metadata": {
        "colab": {
          "base_uri": "https://localhost:8080/"
        },
        "id": "8G9XsnFQ2ZJq",
        "outputId": "d46397c4-db26-43ed-daed-74d9576c0a88"
      },
      "source": [
        "list(conjunto)"
      ],
      "execution_count": null,
      "outputs": [
        {
          "output_type": "execute_result",
          "data": {
            "text/plain": [
              "['b', 'a', 'c']"
            ]
          },
          "metadata": {
            "tags": []
          },
          "execution_count": 167
        }
      ]
    },
    {
      "cell_type": "markdown",
      "metadata": {
        "id": "D2vyWBIF3qaU"
      },
      "source": [
        "\n",
        "> Asignación en conjunto\n",
        "\n"
      ]
    },
    {
      "cell_type": "code",
      "metadata": {
        "colab": {
          "base_uri": "https://localhost:8080/",
          "height": 165
        },
        "id": "4zA3wZO83ulP",
        "outputId": "99c0a8c6-87ca-434c-9d67-35becc40e459"
      },
      "source": [
        "conjunto[1] = 'f'"
      ],
      "execution_count": null,
      "outputs": [
        {
          "output_type": "error",
          "ename": "TypeError",
          "evalue": "ignored",
          "traceback": [
            "\u001b[0;31m---------------------------------------------------------------------------\u001b[0m",
            "\u001b[0;31mTypeError\u001b[0m                                 Traceback (most recent call last)",
            "\u001b[0;32m<ipython-input-180-9acbc57bcc3c>\u001b[0m in \u001b[0;36m<module>\u001b[0;34m()\u001b[0m\n\u001b[0;32m----> 1\u001b[0;31m \u001b[0mconjunto\u001b[0m\u001b[0;34m[\u001b[0m\u001b[0;36m1\u001b[0m\u001b[0;34m]\u001b[0m \u001b[0;34m=\u001b[0m \u001b[0;34m'f'\u001b[0m\u001b[0;34m\u001b[0m\u001b[0;34m\u001b[0m\u001b[0m\n\u001b[0m",
            "\u001b[0;31mTypeError\u001b[0m: 'set' object does not support item assignment"
          ]
        }
      ]
    },
    {
      "cell_type": "markdown",
      "metadata": {
        "id": "CvQs-QwQ2-pZ"
      },
      "source": [
        "### Diccionario"
      ]
    },
    {
      "cell_type": "code",
      "metadata": {
        "id": "jq455BaT2pAz"
      },
      "source": [
        "diccionario = { 'nombre' : 'Juan', 'apellido' : 'Rodríguez', 'edad':31, 'fecha_nacimiento' : '1990-02-15'}"
      ],
      "execution_count": null,
      "outputs": []
    },
    {
      "cell_type": "code",
      "metadata": {
        "colab": {
          "base_uri": "https://localhost:8080/",
          "height": 35
        },
        "id": "D3i_xzbh2zFH",
        "outputId": "6f2fe060-d053-4d0a-bf59-e2ce8fe00377"
      },
      "source": [
        "diccionario['apellido']"
      ],
      "execution_count": null,
      "outputs": [
        {
          "output_type": "execute_result",
          "data": {
            "application/vnd.google.colaboratory.intrinsic+json": {
              "type": "string"
            },
            "text/plain": [
              "'Rodríguez'"
            ]
          },
          "metadata": {
            "tags": []
          },
          "execution_count": 169
        }
      ]
    },
    {
      "cell_type": "code",
      "metadata": {
        "colab": {
          "base_uri": "https://localhost:8080/"
        },
        "id": "BAnBlwzL21ds",
        "outputId": "27bd0c1d-26b4-478c-a892-a5a2cabada6e"
      },
      "source": [
        "diccionario['edad']"
      ],
      "execution_count": null,
      "outputs": [
        {
          "output_type": "execute_result",
          "data": {
            "text/plain": [
              "31"
            ]
          },
          "metadata": {
            "tags": []
          },
          "execution_count": 170
        }
      ]
    },
    {
      "cell_type": "markdown",
      "metadata": {
        "id": "e4Ms8xVb3LJC"
      },
      "source": [
        "> Asignación\n",
        "\n"
      ]
    },
    {
      "cell_type": "code",
      "metadata": {
        "colab": {
          "base_uri": "https://localhost:8080/"
        },
        "id": "16eoo6md3EDC",
        "outputId": "2c6a2a0f-0968-452d-f184-79de7c16fb58"
      },
      "source": [
        "diccionario"
      ],
      "execution_count": null,
      "outputs": [
        {
          "output_type": "execute_result",
          "data": {
            "text/plain": [
              "{'apellido': 'Rodríguez',\n",
              " 'edad': 50,\n",
              " 'fecha_nacimiento': '1990-02-15',\n",
              " 'nombre': 'Juan'}"
            ]
          },
          "metadata": {
            "tags": []
          },
          "execution_count": 174
        }
      ]
    },
    {
      "cell_type": "code",
      "metadata": {
        "id": "HQclR-GG3F3-"
      },
      "source": [
        "diccionario['edad'] = 50"
      ],
      "execution_count": null,
      "outputs": []
    },
    {
      "cell_type": "code",
      "metadata": {
        "colab": {
          "base_uri": "https://localhost:8080/"
        },
        "id": "0jxmX1m03Hh6",
        "outputId": "c20b2b88-705a-4513-db6f-23013cc39e1b"
      },
      "source": [
        "diccionario"
      ],
      "execution_count": null,
      "outputs": [
        {
          "output_type": "execute_result",
          "data": {
            "text/plain": [
              "{'apellido': 'Rodríguez',\n",
              " 'edad': 50,\n",
              " 'fecha_nacimiento': '1990-02-15',\n",
              " 'nombre': 'Juan'}"
            ]
          },
          "metadata": {
            "tags": []
          },
          "execution_count": 176
        }
      ]
    },
    {
      "cell_type": "code",
      "metadata": {
        "id": "eiNoMQqr3IV8"
      },
      "source": [
        ""
      ],
      "execution_count": null,
      "outputs": []
    }
  ]
}